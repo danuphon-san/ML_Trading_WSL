{
 "cells": [
  {
   "cell_type": "markdown",
   "metadata": {},
   "source": [
    "# ML Trading System - Interactive Development Pipeline\n",
    "\n",
    "This notebook walks through the entire ML trading pipeline step-by-step.\n",
    "\n",
    "**Purpose**: Learn and experiment with each component during development phase.\n",
    "\n",
    "**Steps**:\n",
    "1. Data Ingestion (~5 min)\n",
    "2. Feature Engineering (~2 min)\n",
    "3. Model Training (~5 min)\n",
    "4. Backtesting (~2 min)\n",
    "5. Dashboard Population (~1 min)\n",
    "\n",
    "---"
   ]
  },
  {
   "cell_type": "markdown",
   "metadata": {},
   "source": [
    "## Setup & Imports"
   ]
  },
  {
   "cell_type": "code",
   "execution_count": 1,
   "metadata": {},
   "outputs": [
    {
     "name": "stdout",
     "output_type": "stream",
     "text": [
      "Working directory: /home/bawbawz/Project/MLTrading_WSL/notebooks\n",
      "Project root: /home/bawbawz/Project/MLTrading_WSL\n"
     ]
    }
   ],
   "source": [
    "# Standard imports\n",
    "import sys\n",
    "import os\n",
    "import yaml\n",
    "import pandas as pd\n",
    "import numpy as np\n",
    "from datetime import datetime, timedelta\n",
    "import matplotlib.pyplot as plt\n",
    "import seaborn as sns\n",
    "\n",
    "# Set plotting style\n",
    "plt.style.use('seaborn-v0_8-darkgrid')\n",
    "sns.set_palette(\"husl\")\n",
    "\n",
    "# Add project root to path\n",
    "project_root = os.path.abspath('..')\n",
    "if project_root not in sys.path:\n",
    "    sys.path.insert(0, project_root)\n",
    "\n",
    "print(f\"Working directory: {os.getcwd()}\")\n",
    "print(f\"Project root: {project_root}\")"
   ]
  },
  {
   "cell_type": "code",
   "execution_count": 2,
   "metadata": {},
   "outputs": [
    {
     "name": "stdout",
     "output_type": "stream",
     "text": [
      "✓ Configuration loaded\n",
      "  - Modeling algorithm: xgboost\n",
      "  - Portfolio top_k: 20\n",
      "  - Optimizer: pypfopt\n"
     ]
    }
   ],
   "source": [
    "# Load configuration\n",
    "config_path = os.path.join(project_root, 'config/config.yaml')\n",
    "with open(config_path) as f:\n",
    "    config = yaml.safe_load(f)\n",
    "\n",
    "print(\"✓ Configuration loaded\")\n",
    "print(f\"  - Modeling algorithm: {config['modeling']['algorithm']}\")\n",
    "print(f\"  - Portfolio top_k: {config['portfolio']['top_k']}\")\n",
    "print(f\"  - Optimizer: {config['portfolio']['optimizer']}\")"
   ]
  },
  {
   "cell_type": "markdown",
   "metadata": {},
   "source": [
    "---\n",
    "## Step 1: Data Ingestion\n",
    "\n",
    "Fetch OHLCV data for a subset of S&P 500 stocks.\n",
    "\n",
    "**Tip**: Start with 20-30 stocks for quick testing, expand later."
   ]
  },
  {
   "cell_type": "code",
   "execution_count": 3,
   "metadata": {},
   "outputs": [
    {
     "name": "stderr",
     "output_type": "stream",
     "text": [
      "\u001b[32m2025-10-24 15:40:00.835\u001b[0m | \u001b[33m\u001b[1mWARNING \u001b[0m | \u001b[36msrc.io.universe\u001b[0m:\u001b[36mload_sp500_constituents\u001b[0m:\u001b[36m217\u001b[0m - \u001b[33m\u001b[1mLoaded 503 CURRENT S&P 500 symbols - WARNING: This creates SURVIVORSHIP BIAS! Consider using historical constituent data or broader universe.\u001b[0m\n"
     ]
    },
    {
     "name": "stdout",
     "output_type": "stream",
     "text": [
      "Selected 30 stocks for analysis\n",
      "Sample symbols: ['MMM', 'AOS', 'ABT', 'ABBV', 'ACN', 'ADBE', 'AMD', 'AES', 'AFL', 'A']\n"
     ]
    }
   ],
   "source": [
    "from src.io.universe import load_sp500_constituents\n",
    "from src.io.ingest_ohlcv import OHLCVIngester\n",
    "\n",
    "# Load universe - START SMALL for testing\n",
    "NUM_STOCKS = 30  # Adjust this: 20-30 for testing, 100+ for production\n",
    "symbols = load_sp500_constituents()[:NUM_STOCKS]\n",
    "\n",
    "print(f\"Selected {len(symbols)} stocks for analysis\")\n",
    "print(f\"Sample symbols: {symbols[:10]}\")"
   ]
  },
  {
   "cell_type": "code",
   "execution_count": 4,
   "metadata": {},
   "outputs": [
    {
     "name": "stderr",
     "output_type": "stream",
     "text": [
      "\u001b[32m2025-10-24 15:40:00.843\u001b[0m | \u001b[1mINFO    \u001b[0m | \u001b[36msrc.io.ingest_ohlcv\u001b[0m:\u001b[36m__init__\u001b[0m:\u001b[36m31\u001b[0m - \u001b[1mInitialized OHLCVIngester with provider=yfinance\u001b[0m\n",
      "\u001b[32m2025-10-24 15:40:00.844\u001b[0m | \u001b[1mINFO    \u001b[0m | \u001b[36msrc.io.ingest_ohlcv\u001b[0m:\u001b[36m_fetch_yfinance\u001b[0m:\u001b[36m67\u001b[0m - \u001b[1mFetching 30 symbols from yfinance: 2015-01-01 to None\u001b[0m\n"
     ]
    },
    {
     "name": "stdout",
     "output_type": "stream",
     "text": [
      "Fetching data from 2015-01-01 to present...\n",
      "This may take 2-5 minutes depending on number of stocks...\n",
      "\n"
     ]
    },
    {
     "name": "stderr",
     "output_type": "stream",
     "text": [
      "Fetching OHLCV:   0%|          | 0/30 [00:00<?, ?it/s]\u001b[32m2025-10-24 15:40:02.835\u001b[0m | \u001b[34m\u001b[1mDEBUG   \u001b[0m | \u001b[36msrc.io.ingest_ohlcv\u001b[0m:\u001b[36m_fetch_yfinance\u001b[0m:\u001b[36m103\u001b[0m - \u001b[34m\u001b[1mFetched 2719 rows for MMM\u001b[0m\n",
      "Fetching OHLCV:   3%|▎         | 1/30 [00:01<00:57,  1.99s/it]\u001b[32m2025-10-24 15:40:02.980\u001b[0m | \u001b[34m\u001b[1mDEBUG   \u001b[0m | \u001b[36msrc.io.ingest_ohlcv\u001b[0m:\u001b[36m_fetch_yfinance\u001b[0m:\u001b[36m103\u001b[0m - \u001b[34m\u001b[1mFetched 2719 rows for AOS\u001b[0m\n",
      "Fetching OHLCV:   7%|▋         | 2/30 [00:02<00:25,  1.11it/s]\u001b[32m2025-10-24 15:40:03.137\u001b[0m | \u001b[34m\u001b[1mDEBUG   \u001b[0m | \u001b[36msrc.io.ingest_ohlcv\u001b[0m:\u001b[36m_fetch_yfinance\u001b[0m:\u001b[36m103\u001b[0m - \u001b[34m\u001b[1mFetched 2719 rows for ABT\u001b[0m\n",
      "Fetching OHLCV:  10%|█         | 3/30 [00:02<00:15,  1.78it/s]\u001b[32m2025-10-24 15:40:03.239\u001b[0m | \u001b[34m\u001b[1mDEBUG   \u001b[0m | \u001b[36msrc.io.ingest_ohlcv\u001b[0m:\u001b[36m_fetch_yfinance\u001b[0m:\u001b[36m103\u001b[0m - \u001b[34m\u001b[1mFetched 2719 rows for ABBV\u001b[0m\n",
      "Fetching OHLCV:  13%|█▎        | 4/30 [00:02<00:09,  2.63it/s]\u001b[32m2025-10-24 15:40:03.372\u001b[0m | \u001b[34m\u001b[1mDEBUG   \u001b[0m | \u001b[36msrc.io.ingest_ohlcv\u001b[0m:\u001b[36m_fetch_yfinance\u001b[0m:\u001b[36m103\u001b[0m - \u001b[34m\u001b[1mFetched 2719 rows for ACN\u001b[0m\n",
      "Fetching OHLCV:  17%|█▋        | 5/30 [00:02<00:07,  3.43it/s]\u001b[32m2025-10-24 15:40:03.497\u001b[0m | \u001b[34m\u001b[1mDEBUG   \u001b[0m | \u001b[36msrc.io.ingest_ohlcv\u001b[0m:\u001b[36m_fetch_yfinance\u001b[0m:\u001b[36m103\u001b[0m - \u001b[34m\u001b[1mFetched 2719 rows for ADBE\u001b[0m\n",
      "Fetching OHLCV:  20%|██        | 6/30 [00:02<00:05,  4.26it/s]\u001b[32m2025-10-24 15:40:03.591\u001b[0m | \u001b[34m\u001b[1mDEBUG   \u001b[0m | \u001b[36msrc.io.ingest_ohlcv\u001b[0m:\u001b[36m_fetch_yfinance\u001b[0m:\u001b[36m103\u001b[0m - \u001b[34m\u001b[1mFetched 2719 rows for AMD\u001b[0m\n",
      "\u001b[32m2025-10-24 15:40:03.750\u001b[0m | \u001b[34m\u001b[1mDEBUG   \u001b[0m | \u001b[36msrc.io.ingest_ohlcv\u001b[0m:\u001b[36m_fetch_yfinance\u001b[0m:\u001b[36m103\u001b[0m - \u001b[34m\u001b[1mFetched 2719 rows for AES\u001b[0m\n",
      "Fetching OHLCV:  27%|██▋       | 8/30 [00:02<00:03,  5.51it/s]\u001b[32m2025-10-24 15:40:03.929\u001b[0m | \u001b[34m\u001b[1mDEBUG   \u001b[0m | \u001b[36msrc.io.ingest_ohlcv\u001b[0m:\u001b[36m_fetch_yfinance\u001b[0m:\u001b[36m103\u001b[0m - \u001b[34m\u001b[1mFetched 2719 rows for AFL\u001b[0m\n",
      "Fetching OHLCV:  30%|███       | 9/30 [00:03<00:03,  5.53it/s]\u001b[32m2025-10-24 15:40:04.055\u001b[0m | \u001b[34m\u001b[1mDEBUG   \u001b[0m | \u001b[36msrc.io.ingest_ohlcv\u001b[0m:\u001b[36m_fetch_yfinance\u001b[0m:\u001b[36m103\u001b[0m - \u001b[34m\u001b[1mFetched 2719 rows for A\u001b[0m\n",
      "Fetching OHLCV:  33%|███▎      | 10/30 [00:03<00:03,  6.02it/s]\u001b[32m2025-10-24 15:40:04.275\u001b[0m | \u001b[34m\u001b[1mDEBUG   \u001b[0m | \u001b[36msrc.io.ingest_ohlcv\u001b[0m:\u001b[36m_fetch_yfinance\u001b[0m:\u001b[36m103\u001b[0m - \u001b[34m\u001b[1mFetched 2719 rows for APD\u001b[0m\n",
      "Fetching OHLCV:  37%|███▋      | 11/30 [00:03<00:03,  5.52it/s]\u001b[32m2025-10-24 15:40:04.357\u001b[0m | \u001b[34m\u001b[1mDEBUG   \u001b[0m | \u001b[36msrc.io.ingest_ohlcv\u001b[0m:\u001b[36m_fetch_yfinance\u001b[0m:\u001b[36m103\u001b[0m - \u001b[34m\u001b[1mFetched 1223 rows for ABNB\u001b[0m\n",
      "\u001b[32m2025-10-24 15:40:04.446\u001b[0m | \u001b[34m\u001b[1mDEBUG   \u001b[0m | \u001b[36msrc.io.ingest_ohlcv\u001b[0m:\u001b[36m_fetch_yfinance\u001b[0m:\u001b[36m103\u001b[0m - \u001b[34m\u001b[1mFetched 2719 rows for AKAM\u001b[0m\n",
      "Fetching OHLCV:  43%|████▎     | 13/30 [00:03<00:02,  7.21it/s]\u001b[32m2025-10-24 15:40:04.597\u001b[0m | \u001b[34m\u001b[1mDEBUG   \u001b[0m | \u001b[36msrc.io.ingest_ohlcv\u001b[0m:\u001b[36m_fetch_yfinance\u001b[0m:\u001b[36m103\u001b[0m - \u001b[34m\u001b[1mFetched 2719 rows for ALB\u001b[0m\n",
      "Fetching OHLCV:  47%|████▋     | 14/30 [00:03<00:02,  7.07it/s]\u001b[32m2025-10-24 15:40:04.729\u001b[0m | \u001b[34m\u001b[1mDEBUG   \u001b[0m | \u001b[36msrc.io.ingest_ohlcv\u001b[0m:\u001b[36m_fetch_yfinance\u001b[0m:\u001b[36m103\u001b[0m - \u001b[34m\u001b[1mFetched 2719 rows for ARE\u001b[0m\n",
      "Fetching OHLCV:  50%|█████     | 15/30 [00:03<00:02,  7.19it/s]\u001b[32m2025-10-24 15:40:04.826\u001b[0m | \u001b[34m\u001b[1mDEBUG   \u001b[0m | \u001b[36msrc.io.ingest_ohlcv\u001b[0m:\u001b[36m_fetch_yfinance\u001b[0m:\u001b[36m103\u001b[0m - \u001b[34m\u001b[1mFetched 2719 rows for ALGN\u001b[0m\n",
      "\u001b[32m2025-10-24 15:40:04.934\u001b[0m | \u001b[34m\u001b[1mDEBUG   \u001b[0m | \u001b[36msrc.io.ingest_ohlcv\u001b[0m:\u001b[36m_fetch_yfinance\u001b[0m:\u001b[36m103\u001b[0m - \u001b[34m\u001b[1mFetched 2719 rows for ALLE\u001b[0m\n",
      "Fetching OHLCV:  57%|█████▋    | 17/30 [00:04<00:01,  8.09it/s]\u001b[32m2025-10-24 15:40:05.083\u001b[0m | \u001b[34m\u001b[1mDEBUG   \u001b[0m | \u001b[36msrc.io.ingest_ohlcv\u001b[0m:\u001b[36m_fetch_yfinance\u001b[0m:\u001b[36m103\u001b[0m - \u001b[34m\u001b[1mFetched 2719 rows for LNT\u001b[0m\n",
      "Fetching OHLCV:  60%|██████    | 18/30 [00:04<00:01,  7.72it/s]\u001b[32m2025-10-24 15:40:05.236\u001b[0m | \u001b[34m\u001b[1mDEBUG   \u001b[0m | \u001b[36msrc.io.ingest_ohlcv\u001b[0m:\u001b[36m_fetch_yfinance\u001b[0m:\u001b[36m103\u001b[0m - \u001b[34m\u001b[1mFetched 2719 rows for ALL\u001b[0m\n",
      "Fetching OHLCV:  63%|██████▎   | 19/30 [00:04<00:01,  7.38it/s]\u001b[32m2025-10-24 15:40:05.339\u001b[0m | \u001b[34m\u001b[1mDEBUG   \u001b[0m | \u001b[36msrc.io.ingest_ohlcv\u001b[0m:\u001b[36m_fetch_yfinance\u001b[0m:\u001b[36m103\u001b[0m - \u001b[34m\u001b[1mFetched 2719 rows for GOOGL\u001b[0m\n",
      "Fetching OHLCV:  67%|██████▋   | 20/30 [00:04<00:01,  7.88it/s]\u001b[32m2025-10-24 15:40:05.453\u001b[0m | \u001b[34m\u001b[1mDEBUG   \u001b[0m | \u001b[36msrc.io.ingest_ohlcv\u001b[0m:\u001b[36m_fetch_yfinance\u001b[0m:\u001b[36m103\u001b[0m - \u001b[34m\u001b[1mFetched 2719 rows for GOOG\u001b[0m\n",
      "Fetching OHLCV:  70%|███████   | 21/30 [00:04<00:01,  8.10it/s]\u001b[32m2025-10-24 15:40:05.647\u001b[0m | \u001b[34m\u001b[1mDEBUG   \u001b[0m | \u001b[36msrc.io.ingest_ohlcv\u001b[0m:\u001b[36m_fetch_yfinance\u001b[0m:\u001b[36m103\u001b[0m - \u001b[34m\u001b[1mFetched 2719 rows for MO\u001b[0m\n",
      "Fetching OHLCV:  73%|███████▎  | 22/30 [00:04<00:01,  6.99it/s]\u001b[32m2025-10-24 15:40:05.815\u001b[0m | \u001b[34m\u001b[1mDEBUG   \u001b[0m | \u001b[36msrc.io.ingest_ohlcv\u001b[0m:\u001b[36m_fetch_yfinance\u001b[0m:\u001b[36m103\u001b[0m - \u001b[34m\u001b[1mFetched 2719 rows for AMZN\u001b[0m\n",
      "Fetching OHLCV:  77%|███████▋  | 23/30 [00:04<00:01,  6.66it/s]\u001b[32m2025-10-24 15:40:05.928\u001b[0m | \u001b[34m\u001b[1mDEBUG   \u001b[0m | \u001b[36msrc.io.ingest_ohlcv\u001b[0m:\u001b[36m_fetch_yfinance\u001b[0m:\u001b[36m103\u001b[0m - \u001b[34m\u001b[1mFetched 2719 rows for AMCR\u001b[0m\n",
      "Fetching OHLCV:  80%|████████  | 24/30 [00:05<00:00,  7.18it/s]\u001b[32m2025-10-24 15:40:06.059\u001b[0m | \u001b[34m\u001b[1mDEBUG   \u001b[0m | \u001b[36msrc.io.ingest_ohlcv\u001b[0m:\u001b[36m_fetch_yfinance\u001b[0m:\u001b[36m103\u001b[0m - \u001b[34m\u001b[1mFetched 2719 rows for AEE\u001b[0m\n",
      "Fetching OHLCV:  83%|████████▎ | 25/30 [00:05<00:00,  7.30it/s]\u001b[32m2025-10-24 15:40:06.262\u001b[0m | \u001b[34m\u001b[1mDEBUG   \u001b[0m | \u001b[36msrc.io.ingest_ohlcv\u001b[0m:\u001b[36m_fetch_yfinance\u001b[0m:\u001b[36m103\u001b[0m - \u001b[34m\u001b[1mFetched 2719 rows for AEP\u001b[0m\n",
      "Fetching OHLCV:  87%|████████▋ | 26/30 [00:05<00:00,  6.39it/s]\u001b[32m2025-10-24 15:40:06.451\u001b[0m | \u001b[34m\u001b[1mDEBUG   \u001b[0m | \u001b[36msrc.io.ingest_ohlcv\u001b[0m:\u001b[36m_fetch_yfinance\u001b[0m:\u001b[36m103\u001b[0m - \u001b[34m\u001b[1mFetched 2719 rows for AXP\u001b[0m\n",
      "Fetching OHLCV:  90%|█████████ | 27/30 [00:05<00:00,  6.02it/s]\u001b[32m2025-10-24 15:40:06.622\u001b[0m | \u001b[34m\u001b[1mDEBUG   \u001b[0m | \u001b[36msrc.io.ingest_ohlcv\u001b[0m:\u001b[36m_fetch_yfinance\u001b[0m:\u001b[36m103\u001b[0m - \u001b[34m\u001b[1mFetched 2719 rows for AIG\u001b[0m\n",
      "Fetching OHLCV:  93%|█████████▎| 28/30 [00:05<00:00,  5.97it/s]\u001b[32m2025-10-24 15:40:06.762\u001b[0m | \u001b[34m\u001b[1mDEBUG   \u001b[0m | \u001b[36msrc.io.ingest_ohlcv\u001b[0m:\u001b[36m_fetch_yfinance\u001b[0m:\u001b[36m103\u001b[0m - \u001b[34m\u001b[1mFetched 2719 rows for AMT\u001b[0m\n",
      "Fetching OHLCV:  97%|█████████▋| 29/30 [00:05<00:00,  6.27it/s]\u001b[32m2025-10-24 15:40:06.871\u001b[0m | \u001b[34m\u001b[1mDEBUG   \u001b[0m | \u001b[36msrc.io.ingest_ohlcv\u001b[0m:\u001b[36m_fetch_yfinance\u001b[0m:\u001b[36m103\u001b[0m - \u001b[34m\u001b[1mFetched 2719 rows for AWK\u001b[0m\n",
      "Fetching OHLCV: 100%|██████████| 30/30 [00:06<00:00,  4.98it/s]\n",
      "\u001b[32m2025-10-24 15:40:06.872\u001b[0m | \u001b[1mINFO    \u001b[0m | \u001b[36msrc.io.ingest_ohlcv\u001b[0m:\u001b[36m_fetch_yfinance\u001b[0m:\u001b[36m108\u001b[0m - \u001b[1mSuccessfully fetched 30/30 symbols\u001b[0m\n"
     ]
    },
    {
     "name": "stdout",
     "output_type": "stream",
     "text": [
      "\n",
      "✓ Fetched data for 30 symbols\n",
      "  Total rows: 80,074\n"
     ]
    }
   ],
   "source": [
    "# Fetch OHLCV data from yfinance\n",
    "ingester = OHLCVIngester()\n",
    "start_date = config['ingest']['start_date']  # From config.yaml\n",
    "\n",
    "print(f\"Fetching data from {start_date} to present...\")\n",
    "print(\"This may take 2-5 minutes depending on number of stocks...\\n\")\n",
    "\n",
    "data = ingester.fetch_ohlcv(symbols, start_date, None)\n",
    "\n",
    "print(f\"\\n✓ Fetched data for {len(data)} symbols\")\n",
    "print(f\"  Total rows: {sum(len(df) for df in data.values()):,}\")"
   ]
  },
  {
   "cell_type": "code",
   "execution_count": 5,
   "metadata": {},
   "outputs": [
    {
     "name": "stderr",
     "output_type": "stream",
     "text": [
      "\u001b[32m2025-10-24 15:40:06.878\u001b[0m | \u001b[1mINFO    \u001b[0m | \u001b[36msrc.io.ingest_ohlcv\u001b[0m:\u001b[36msave_parquet\u001b[0m:\u001b[36m128\u001b[0m - \u001b[1mSaving 30 symbols to data/parquet/1d\u001b[0m\n",
      "Saving parquet: 100%|██████████| 30/30 [00:00<00:00, 203.68it/s]\n",
      "\u001b[32m2025-10-24 15:40:07.028\u001b[0m | \u001b[1mINFO    \u001b[0m | \u001b[36msrc.io.ingest_ohlcv\u001b[0m:\u001b[36msave_parquet\u001b[0m:\u001b[36m147\u001b[0m - \u001b[1mSaved data to data/parquet/1d\u001b[0m\n"
     ]
    },
    {
     "name": "stdout",
     "output_type": "stream",
     "text": [
      "✓ Data saved to data/parquet/\n",
      "\n",
      "Sample data for MMM:\n",
      "                       date        open        high         low       close  \\\n",
      "0 2015-01-02 00:00:00-05:00  137.717392  138.026749  136.061874  137.173920   \n",
      "1 2015-01-05 00:00:00-05:00  136.287628  136.822739  133.846161  134.080261   \n",
      "2 2015-01-06 00:00:00-05:00  134.464890  134.924744  131.889633  132.650497   \n",
      "3 2015-01-07 00:00:00-05:00  133.695648  134.013382  132.892975  133.612045   \n",
      "4 2015-01-08 00:00:00-05:00  134.322739  136.864548  134.214050  136.814377   \n",
      "\n",
      "   Adj Close   volume  dividends  splits symbol  \n",
      "0  96.521523  2531214        0.0     0.0    MMM  \n",
      "1  94.344704  4416708        0.0     0.0    MMM  \n",
      "2  93.338638  4224272        0.0     0.0    MMM  \n",
      "3  94.015244  3685235        0.0     0.0    MMM  \n",
      "4  96.268517  3758908        0.0     0.0    MMM  \n",
      "\n",
      "Date range: 2015-01-02 00:00:00-05:00 to 2025-10-23 00:00:00-04:00\n",
      "Total trading days: 2719\n"
     ]
    }
   ],
   "source": [
    "# Save to parquet format\n",
    "ingester.save_parquet(data)\n",
    "print(\"✓ Data saved to data/parquet/\")\n",
    "\n",
    "# Explore the data\n",
    "sample_symbol = symbols[0]\n",
    "sample_df = data[sample_symbol]\n",
    "\n",
    "print(f\"\\nSample data for {sample_symbol}:\")\n",
    "print(sample_df.head())\n",
    "print(f\"\\nDate range: {sample_df['date'].min()} to {sample_df['date'].max()}\")\n",
    "print(f\"Total trading days: {len(sample_df)}\")"
   ]
  },
  {
   "cell_type": "code",
   "execution_count": 6,
   "metadata": {},
   "outputs": [
    {
     "data": {
      "image/png": "[encoded data removed]",
      "text/plain": [
       "<Figure size 1400x800 with 2 Axes>"
      ]
     },
     "metadata": {},
     "output_type": "display_data"
    }
   ],
   "source": [
    "# Visualize sample stock price\n",
    "fig, axes = plt.subplots(2, 1, figsize=(14, 8))\n",
    "\n",
    "# Price chart\n",
    "axes[0].plot(sample_df['date'], sample_df['close'], linewidth=1.5)\n",
    "axes[0].set_title(f\"{sample_symbol} - Closing Price\", fontsize=14, fontweight='bold')\n",
    "axes[0].set_ylabel('Price ($)')\n",
    "axes[0].grid(True, alpha=0.3)\n",
    "\n",
    "# Volume chart\n",
    "axes[1].bar(sample_df['date'], sample_df['volume'], alpha=0.6)\n",
    "axes[1].set_title(f\"{sample_symbol} - Trading Volume\", fontsize=14, fontweight='bold')\n",
    "axes[1].set_ylabel('Volume')\n",
    "axes[1].set_xlabel('Date')\n",
    "axes[1].grid(True, alpha=0.3)\n",
    "\n",
    "plt.tight_layout()\n",
    "plt.show()"
   ]
  },
  {
   "cell_type": "code",
   "execution_count": 7,
   "metadata": {},
   "outputs": [
    {
     "name": "stderr",
     "output_type": "stream",
     "text": [
      "\u001b[32m2025-10-24 15:40:08.337\u001b[0m | \u001b[1mINFO    \u001b[0m | \u001b[36msrc.io.ingest_fundamentals\u001b[0m:\u001b[36m__init__\u001b[0m:\u001b[36m25\u001b[0m - \u001b[1mInitialized FundamentalsIngester with storage_path=data/fundamentals\u001b[0m\n",
      "\u001b[32m2025-10-24 15:40:08.337\u001b[0m | \u001b[1mINFO    \u001b[0m | \u001b[36msrc.io.ingest_fundamentals\u001b[0m:\u001b[36mfetch_fundamentals\u001b[0m:\u001b[36m52\u001b[0m - \u001b[1mFetching fundamentals for 30 symbols\u001b[0m\n"
     ]
    },
    {
     "name": "stdout",
     "output_type": "stream",
     "text": [
      "Fetching fundamental data for 30 symbols...\n",
      "This may take 2-3 minutes...\n",
      "\n"
     ]
    },
    {
     "name": "stderr",
     "output_type": "stream",
     "text": [
      "Fetching fundamentals:   0%|          | 0/30 [00:00<?, ?it/s]\u001b[32m2025-10-24 15:40:09.115\u001b[0m | \u001b[34m\u001b[1mDEBUG   \u001b[0m | \u001b[36msrc.io.ingest_fundamentals\u001b[0m:\u001b[36mfetch_fundamentals\u001b[0m:\u001b[36m59\u001b[0m - \u001b[34m\u001b[1mFetched 6 quarters for MMM\u001b[0m\n",
      "Fetching fundamentals:   3%|▎         | 1/30 [00:00<00:22,  1.29it/s]\u001b[32m2025-10-24 15:40:10.345\u001b[0m | \u001b[34m\u001b[1mDEBUG   \u001b[0m | \u001b[36msrc.io.ingest_fundamentals\u001b[0m:\u001b[36mfetch_fundamentals\u001b[0m:\u001b[36m59\u001b[0m - \u001b[34m\u001b[1mFetched 6 quarters for AOS\u001b[0m\n",
      "Fetching fundamentals:   7%|▋         | 2/30 [00:02<00:29,  1.04s/it]\u001b[32m2025-10-24 15:40:11.170\u001b[0m | \u001b[34m\u001b[1mDEBUG   \u001b[0m | \u001b[36msrc.io.ingest_fundamentals\u001b[0m:\u001b[36mfetch_fundamentals\u001b[0m:\u001b[36m59\u001b[0m - \u001b[34m\u001b[1mFetched 5 quarters for ABT\u001b[0m\n",
      "Fetching fundamentals:  10%|█         | 3/30 [00:02<00:25,  1.06it/s]\u001b[32m2025-10-24 15:40:11.800\u001b[0m | \u001b[34m\u001b[1mDEBUG   \u001b[0m | \u001b[36msrc.io.ingest_fundamentals\u001b[0m:\u001b[36mfetch_fundamentals\u001b[0m:\u001b[36m59\u001b[0m - \u001b[34m\u001b[1mFetched 6 quarters for ABBV\u001b[0m\n",
      "Fetching fundamentals:  13%|█▎        | 4/30 [00:03<00:21,  1.22it/s]\u001b[32m2025-10-24 15:40:12.537\u001b[0m | \u001b[34m\u001b[1mDEBUG   \u001b[0m | \u001b[36msrc.io.ingest_fundamentals\u001b[0m:\u001b[36mfetch_fundamentals\u001b[0m:\u001b[36m59\u001b[0m - \u001b[34m\u001b[1mFetched 7 quarters for ACN\u001b[0m\n",
      "Fetching fundamentals:  17%|█▋        | 5/30 [00:04<00:19,  1.27it/s]\u001b[32m2025-10-24 15:40:13.180\u001b[0m | \u001b[34m\u001b[1mDEBUG   \u001b[0m | \u001b[36msrc.io.ingest_fundamentals\u001b[0m:\u001b[36mfetch_fundamentals\u001b[0m:\u001b[36m59\u001b[0m - \u001b[34m\u001b[1mFetched 7 quarters for ADBE\u001b[0m\n",
      "Fetching fundamentals:  20%|██        | 6/30 [00:04<00:17,  1.35it/s]\u001b[32m2025-10-24 15:40:13.941\u001b[0m | \u001b[34m\u001b[1mDEBUG   \u001b[0m | \u001b[36msrc.io.ingest_fundamentals\u001b[0m:\u001b[36mfetch_fundamentals\u001b[0m:\u001b[36m59\u001b[0m - \u001b[34m\u001b[1mFetched 6 quarters for AMD\u001b[0m\n",
      "Fetching fundamentals:  23%|██▎       | 7/30 [00:05<00:17,  1.34it/s]\u001b[32m2025-10-24 15:40:14.583\u001b[0m | \u001b[34m\u001b[1mDEBUG   \u001b[0m | \u001b[36msrc.io.ingest_fundamentals\u001b[0m:\u001b[36mfetch_fundamentals\u001b[0m:\u001b[36m59\u001b[0m - \u001b[34m\u001b[1mFetched 6 quarters for AES\u001b[0m\n",
      "Fetching fundamentals:  27%|██▋       | 8/30 [00:06<00:15,  1.40it/s]\u001b[32m2025-10-24 15:40:15.186\u001b[0m | \u001b[34m\u001b[1mDEBUG   \u001b[0m | \u001b[36msrc.io.ingest_fundamentals\u001b[0m:\u001b[36mfetch_fundamentals\u001b[0m:\u001b[36m59\u001b[0m - \u001b[34m\u001b[1mFetched 6 quarters for AFL\u001b[0m\n",
      "Fetching fundamentals:  30%|███       | 9/30 [00:06<00:14,  1.47it/s]\u001b[32m2025-10-24 15:40:15.896\u001b[0m | \u001b[34m\u001b[1mDEBUG   \u001b[0m | \u001b[36msrc.io.ingest_fundamentals\u001b[0m:\u001b[36mfetch_fundamentals\u001b[0m:\u001b[36m59\u001b[0m - \u001b[34m\u001b[1mFetched 5 quarters for A\u001b[0m\n",
      "Fetching fundamentals:  33%|███▎      | 10/30 [00:07<00:13,  1.45it/s]\u001b[32m2025-10-24 15:40:16.546\u001b[0m | \u001b[34m\u001b[1mDEBUG   \u001b[0m | \u001b[36msrc.io.ingest_fundamentals\u001b[0m:\u001b[36mfetch_fundamentals\u001b[0m:\u001b[36m59\u001b[0m - \u001b[34m\u001b[1mFetched 6 quarters for APD\u001b[0m\n",
      "Fetching fundamentals:  37%|███▋      | 11/30 [00:08<00:12,  1.48it/s]\u001b[32m2025-10-24 15:40:17.164\u001b[0m | \u001b[34m\u001b[1mDEBUG   \u001b[0m | \u001b[36msrc.io.ingest_fundamentals\u001b[0m:\u001b[36mfetch_fundamentals\u001b[0m:\u001b[36m59\u001b[0m - \u001b[34m\u001b[1mFetched 6 quarters for ABNB\u001b[0m\n",
      "Fetching fundamentals:  40%|████      | 12/30 [00:08<00:11,  1.52it/s]\u001b[32m2025-10-24 15:40:17.792\u001b[0m | \u001b[34m\u001b[1mDEBUG   \u001b[0m | \u001b[36msrc.io.ingest_fundamentals\u001b[0m:\u001b[36mfetch_fundamentals\u001b[0m:\u001b[36m59\u001b[0m - \u001b[34m\u001b[1mFetched 5 quarters for AKAM\u001b[0m\n",
      "Fetching fundamentals:  43%|████▎     | 13/30 [00:09<00:11,  1.54it/s]\u001b[32m2025-10-24 15:40:18.389\u001b[0m | \u001b[34m\u001b[1mDEBUG   \u001b[0m | \u001b[36msrc.io.ingest_fundamentals\u001b[0m:\u001b[36mfetch_fundamentals\u001b[0m:\u001b[36m59\u001b[0m - \u001b[34m\u001b[1mFetched 5 quarters for ALB\u001b[0m\n",
      "Fetching fundamentals:  47%|████▋     | 14/30 [00:10<00:10,  1.58it/s]\u001b[32m2025-10-24 15:40:18.987\u001b[0m | \u001b[34m\u001b[1mDEBUG   \u001b[0m | \u001b[36msrc.io.ingest_fundamentals\u001b[0m:\u001b[36mfetch_fundamentals\u001b[0m:\u001b[36m59\u001b[0m - \u001b[34m\u001b[1mFetched 6 quarters for ARE\u001b[0m\n",
      "Fetching fundamentals:  50%|█████     | 15/30 [00:10<00:09,  1.61it/s]\u001b[32m2025-10-24 15:40:19.733\u001b[0m | \u001b[34m\u001b[1mDEBUG   \u001b[0m | \u001b[36msrc.io.ingest_fundamentals\u001b[0m:\u001b[36mfetch_fundamentals\u001b[0m:\u001b[36m59\u001b[0m - \u001b[34m\u001b[1mFetched 5 quarters for ALGN\u001b[0m\n",
      "Fetching fundamentals:  53%|█████▎    | 16/30 [00:11<00:09,  1.52it/s]\u001b[32m2025-10-24 15:40:20.410\u001b[0m | \u001b[34m\u001b[1mDEBUG   \u001b[0m | \u001b[36msrc.io.ingest_fundamentals\u001b[0m:\u001b[36mfetch_fundamentals\u001b[0m:\u001b[36m59\u001b[0m - \u001b[34m\u001b[1mFetched 6 quarters for ALLE\u001b[0m\n",
      "Fetching fundamentals:  57%|█████▋    | 17/30 [00:12<00:08,  1.50it/s]\u001b[32m2025-10-24 15:40:21.054\u001b[0m | \u001b[34m\u001b[1mDEBUG   \u001b[0m | \u001b[36msrc.io.ingest_fundamentals\u001b[0m:\u001b[36mfetch_fundamentals\u001b[0m:\u001b[36m59\u001b[0m - \u001b[34m\u001b[1mFetched 6 quarters for LNT\u001b[0m\n",
      "Fetching fundamentals:  60%|██████    | 18/30 [00:12<00:07,  1.52it/s]\u001b[32m2025-10-24 15:40:21.736\u001b[0m | \u001b[34m\u001b[1mDEBUG   \u001b[0m | \u001b[36msrc.io.ingest_fundamentals\u001b[0m:\u001b[36mfetch_fundamentals\u001b[0m:\u001b[36m59\u001b[0m - \u001b[34m\u001b[1mFetched 6 quarters for ALL\u001b[0m\n",
      "Fetching fundamentals:  63%|██████▎   | 19/30 [00:13<00:07,  1.50it/s]\u001b[32m2025-10-24 15:40:22.427\u001b[0m | \u001b[34m\u001b[1mDEBUG   \u001b[0m | \u001b[36msrc.io.ingest_fundamentals\u001b[0m:\u001b[36mfetch_fundamentals\u001b[0m:\u001b[36m59\u001b[0m - \u001b[34m\u001b[1mFetched 6 quarters for GOOGL\u001b[0m\n",
      "Fetching fundamentals:  67%|██████▋   | 20/30 [00:14<00:06,  1.49it/s]\u001b[32m2025-10-24 15:40:23.097\u001b[0m | \u001b[34m\u001b[1mDEBUG   \u001b[0m | \u001b[36msrc.io.ingest_fundamentals\u001b[0m:\u001b[36mfetch_fundamentals\u001b[0m:\u001b[36m59\u001b[0m - \u001b[34m\u001b[1mFetched 6 quarters for GOOG\u001b[0m\n",
      "Fetching fundamentals:  70%|███████   | 21/30 [00:14<00:06,  1.49it/s]\u001b[32m2025-10-24 15:40:23.771\u001b[0m | \u001b[34m\u001b[1mDEBUG   \u001b[0m | \u001b[36msrc.io.ingest_fundamentals\u001b[0m:\u001b[36mfetch_fundamentals\u001b[0m:\u001b[36m59\u001b[0m - \u001b[34m\u001b[1mFetched 6 quarters for MO\u001b[0m\n",
      "Fetching fundamentals:  73%|███████▎  | 22/30 [00:15<00:05,  1.49it/s]\u001b[32m2025-10-24 15:40:24.357\u001b[0m | \u001b[34m\u001b[1mDEBUG   \u001b[0m | \u001b[36msrc.io.ingest_fundamentals\u001b[0m:\u001b[36mfetch_fundamentals\u001b[0m:\u001b[36m59\u001b[0m - \u001b[34m\u001b[1mFetched 5 quarters for AMZN\u001b[0m\n",
      "Fetching fundamentals:  77%|███████▋  | 23/30 [00:16<00:04,  1.55it/s]\u001b[32m2025-10-24 15:40:24.967\u001b[0m | \u001b[34m\u001b[1mDEBUG   \u001b[0m | \u001b[36msrc.io.ingest_fundamentals\u001b[0m:\u001b[36mfetch_fundamentals\u001b[0m:\u001b[36m59\u001b[0m - \u001b[34m\u001b[1mFetched 6 quarters for AMCR\u001b[0m\n",
      "Fetching fundamentals:  80%|████████  | 24/30 [00:16<00:03,  1.57it/s]\u001b[32m2025-10-24 15:40:25.628\u001b[0m | \u001b[34m\u001b[1mDEBUG   \u001b[0m | \u001b[36msrc.io.ingest_fundamentals\u001b[0m:\u001b[36mfetch_fundamentals\u001b[0m:\u001b[36m59\u001b[0m - \u001b[34m\u001b[1mFetched 6 quarters for AEE\u001b[0m\n",
      "Fetching fundamentals:  83%|████████▎ | 25/30 [00:17<00:03,  1.55it/s]\u001b[32m2025-10-24 15:40:26.275\u001b[0m | \u001b[34m\u001b[1mDEBUG   \u001b[0m | \u001b[36msrc.io.ingest_fundamentals\u001b[0m:\u001b[36mfetch_fundamentals\u001b[0m:\u001b[36m59\u001b[0m - \u001b[34m\u001b[1mFetched 6 quarters for AEP\u001b[0m\n",
      "Fetching fundamentals:  87%|████████▋ | 26/30 [00:17<00:02,  1.55it/s]\u001b[32m2025-10-24 15:40:26.918\u001b[0m | \u001b[34m\u001b[1mDEBUG   \u001b[0m | \u001b[36msrc.io.ingest_fundamentals\u001b[0m:\u001b[36mfetch_fundamentals\u001b[0m:\u001b[36m59\u001b[0m - \u001b[34m\u001b[1mFetched 5 quarters for AXP\u001b[0m\n",
      "Fetching fundamentals:  90%|█████████ | 27/30 [00:18<00:01,  1.55it/s]\u001b[32m2025-10-24 15:40:27.693\u001b[0m | \u001b[34m\u001b[1mDEBUG   \u001b[0m | \u001b[36msrc.io.ingest_fundamentals\u001b[0m:\u001b[36mfetch_fundamentals\u001b[0m:\u001b[36m59\u001b[0m - \u001b[34m\u001b[1mFetched 6 quarters for AIG\u001b[0m\n",
      "Fetching fundamentals:  93%|█████████▎| 28/30 [00:19<00:01,  1.46it/s]\u001b[32m2025-10-24 15:40:28.364\u001b[0m | \u001b[34m\u001b[1mDEBUG   \u001b[0m | \u001b[36msrc.io.ingest_fundamentals\u001b[0m:\u001b[36mfetch_fundamentals\u001b[0m:\u001b[36m59\u001b[0m - \u001b[34m\u001b[1mFetched 5 quarters for AMT\u001b[0m\n",
      "Fetching fundamentals:  97%|█████████▋| 29/30 [00:20<00:00,  1.47it/s]\u001b[32m2025-10-24 15:40:31.389\u001b[0m | \u001b[34m\u001b[1mDEBUG   \u001b[0m | \u001b[36msrc.io.ingest_fundamentals\u001b[0m:\u001b[36mfetch_fundamentals\u001b[0m:\u001b[36m59\u001b[0m - \u001b[34m\u001b[1mFetched 6 quarters for AWK\u001b[0m\n",
      "Fetching fundamentals: 100%|██████████| 30/30 [00:23<00:00,  1.30it/s]\n",
      "\u001b[32m2025-10-24 15:40:31.390\u001b[0m | \u001b[1mINFO    \u001b[0m | \u001b[36msrc.io.ingest_fundamentals\u001b[0m:\u001b[36mfetch_fundamentals\u001b[0m:\u001b[36m63\u001b[0m - \u001b[1mSuccessfully fetched 30/30 symbols\u001b[0m\n",
      "\u001b[32m2025-10-24 15:40:31.391\u001b[0m | \u001b[1mINFO    \u001b[0m | \u001b[36msrc.io.ingest_fundamentals\u001b[0m:\u001b[36msave_parquet\u001b[0m:\u001b[36m178\u001b[0m - \u001b[1mSaving 30 symbols to data/fundamentals\u001b[0m\n"
     ]
    },
    {
     "name": "stdout",
     "output_type": "stream",
     "text": [
      "\n",
      "✓ Fetched fundamental data for 30 symbols\n"
     ]
    },
    {
     "name": "stderr",
     "output_type": "stream",
     "text": [
      "Saving fundamentals: 100%|██████████| 30/30 [00:00<00:00, 591.20it/s]\n",
      "\u001b[32m2025-10-24 15:40:31.444\u001b[0m | \u001b[1mINFO    \u001b[0m | \u001b[36msrc.io.ingest_fundamentals\u001b[0m:\u001b[36msave_parquet\u001b[0m:\u001b[36m187\u001b[0m - \u001b[1mSaved fundamental data to data/fundamentals\u001b[0m\n"
     ]
    },
    {
     "name": "stdout",
     "output_type": "stream",
     "text": [
      "✓ Fundamental data saved to data/fundamentals/\n",
      "\n",
      "Sample fundamental data for MMM:\n",
      "  symbol       date period_type   market_cap  pe_ratio  pb_ratio  ps_ratio  \\\n",
      "5    MMM 2024-03-31   quarterly  91158224896  27.41214  19.69697  3.672033   \n",
      "4    MMM 2024-06-30   quarterly  91158224896  27.41214  19.69697  3.672033   \n",
      "3    MMM 2024-09-30   quarterly  91158224896  27.41214  19.69697  3.672033   \n",
      "2    MMM 2024-12-31   quarterly  91158224896  27.41214  19.69697  3.672033   \n",
      "1    MMM 2025-03-31   quarterly  91158224896  27.41214  19.69697  3.672033   \n",
      "\n",
      "   ev_ebitda      roe      roa  current_ratio  quick_ratio  debt_to_equity  \\\n",
      "5     16.101  0.72921  0.07971          1.842        1.027         281.904   \n",
      "4     16.101  0.72921  0.07971          1.842        1.027         281.904   \n",
      "3     16.101  0.72921  0.07971          1.842        1.027         281.904   \n",
      "2     16.101  0.72921  0.07971          1.842        1.027         281.904   \n",
      "1     16.101  0.72921  0.07971          1.842        1.027         281.904   \n",
      "\n",
      "        revenue    net_income  total_assets  total_liabilities  \\\n",
      "5           NaN           NaN           NaN                NaN   \n",
      "4  6.255000e+09  1.145000e+09  4.337700e+10       3.938900e+10   \n",
      "3  6.294000e+09  1.372000e+09  4.087500e+10       3.618100e+10   \n",
      "2  6.010000e+09  7.280000e+08  3.986800e+10       3.597400e+10   \n",
      "1  5.954000e+09  1.116000e+09  3.995100e+10       3.542800e+10   \n",
      "\n",
      "   shareholders_equity  operating_cash_flow public_date  \n",
      "5                  NaN                  NaN  2024-05-15  \n",
      "4         3.916000e+09         1.021000e+09  2024-08-14  \n",
      "3         4.642000e+09        -1.787000e+09  2024-11-14  \n",
      "2         3.842000e+09         1.818000e+09  2025-02-14  \n",
      "1         4.464000e+09        -7.900000e+07  2025-05-15  \n",
      "\n",
      "Columns: ['symbol', 'date', 'period_type', 'market_cap', 'pe_ratio', 'pb_ratio', 'ps_ratio', 'ev_ebitda', 'roe', 'roa', 'current_ratio', 'quick_ratio', 'debt_to_equity', 'revenue', 'net_income', 'total_assets', 'total_liabilities', 'shareholders_equity', 'operating_cash_flow', 'public_date']\n",
      "Date range: 2024-03-31 00:00:00 to 2025-06-30 00:00:00\n"
     ]
    }
   ],
   "source": [
    "from src.io.ingest_fundamentals import FundamentalsIngester\n",
    "\n",
    "# Initialize fundamental data ingester\n",
    "fund_ingester = FundamentalsIngester(storage_path=\"data/fundamentals\")\n",
    "\n",
    "print(f\"Fetching fundamental data for {len(symbols)} symbols...\")\n",
    "print(\"This may take 2-3 minutes...\\n\")\n",
    "\n",
    "# Fetch fundamental data\n",
    "fundamental_data = fund_ingester.fetch_fundamentals(symbols)\n",
    "\n",
    "print(f\"\\n✓ Fetched fundamental data for {len(fundamental_data)} symbols\")\n",
    "\n",
    "# Save to parquet\n",
    "fund_ingester.save_parquet(fundamental_data)\n",
    "print(\"✓ Fundamental data saved to data/fundamentals/\")\n",
    "\n",
    "# Preview sample data\n",
    "if len(fundamental_data) > 0:\n",
    "    sample_symbol = list(fundamental_data.keys())[0]\n",
    "    sample_fund = fundamental_data[sample_symbol]\n",
    "    print(f\"\\nSample fundamental data for {sample_symbol}:\")\n",
    "    print(sample_fund.head())\n",
    "    print(f\"\\nColumns: {list(sample_fund.columns)}\")\n",
    "    print(f\"Date range: {sample_fund['date'].min()} to {sample_fund['date'].max()}\")"
   ]
  },
  {
   "cell_type": "markdown",
   "metadata": {},
   "source": [
    "### Step 1.5: Fetch Fundamental Data\n",
    "\n",
    "Now let's fetch fundamental data (income statements, balance sheets, cash flow statements) for the same symbols."
   ]
  },
  {
   "cell_type": "markdown",
   "metadata": {},
   "source": [
    "---\n",
    "## Step 2: Feature Engineering\n",
    "\n",
    "Generate technical indicators and forward return labels."
   ]
  },
  {
   "cell_type": "code",
   "execution_count": 8,
   "metadata": {},
   "outputs": [
    {
     "name": "stderr",
     "output_type": "stream",
     "text": [
      "\u001b[32m2025-10-24 15:40:31.456\u001b[0m | \u001b[1mINFO    \u001b[0m | \u001b[36msrc.io.ingest_ohlcv\u001b[0m:\u001b[36mload_parquet\u001b[0m:\u001b[36m185\u001b[0m - \u001b[1mLoading 30 symbols from data/parquet/1d\u001b[0m\n",
      "Loading parquet: 100%|██████████| 30/30 [00:00<00:00, 581.31it/s]\n",
      "\u001b[32m2025-10-24 15:40:31.516\u001b[0m | \u001b[1mINFO    \u001b[0m | \u001b[36msrc.io.ingest_ohlcv\u001b[0m:\u001b[36mload_parquet\u001b[0m:\u001b[36m207\u001b[0m - \u001b[1mLoaded 80074 rows from 30 symbols\u001b[0m\n"
     ]
    },
    {
     "name": "stdout",
     "output_type": "stream",
     "text": [
      "Loaded 80,074 rows of OHLCV data\n",
      "Columns: ['date', 'open', 'high', 'low', 'close', 'Adj Close', 'volume', 'dividends', 'splits', 'symbol']\n",
      "\n",
      "Date range: 2015-01-02 00:00:00-05:00 to 2025-10-23 00:00:00-04:00\n",
      "Unique symbols: 30\n"
     ]
    }
   ],
   "source": [
    "from src.features.ta_features import create_technical_features\n",
    "from src.labeling.labels import generate_forward_returns\n",
    "\n",
    "# Load saved parquet data\n",
    "df = ingester.load_parquet(symbols)\n",
    "\n",
    "print(f\"Loaded {len(df):,} rows of OHLCV data\")\n",
    "print(f\"Columns: {list(df.columns)}\")\n",
    "print(f\"\\nDate range: {df['date'].min()} to {df['date'].max()}\")\n",
    "print(f\"Unique symbols: {df['symbol'].nunique()}\")"
   ]
  },
  {
   "cell_type": "markdown",
   "metadata": {},
   "source": [
    "### Step 2.5: Add Fundamental Features with PIT Alignment\n",
    "\n",
    "Now let's integrate fundamental features using Point-in-Time (PIT) alignment to prevent look-ahead bias."
   ]
  },
  {
   "cell_type": "code",
   "execution_count": 9,
   "metadata": {},
   "outputs": [
    {
     "name": "stderr",
     "output_type": "stream",
     "text": [
      "\u001b[32m2025-10-24 15:40:31.529\u001b[0m | \u001b[1mINFO    \u001b[0m | \u001b[36msrc.io.ingest_fundamentals\u001b[0m:\u001b[36mload_parquet\u001b[0m:\u001b[36m220\u001b[0m - \u001b[1mLoading 30 symbols from data/fundamentals\u001b[0m\n"
     ]
    },
    {
     "name": "stdout",
     "output_type": "stream",
     "text": [
      "Loading fundamental data...\n"
     ]
    },
    {
     "name": "stderr",
     "output_type": "stream",
     "text": [
      "Loading fundamentals: 100%|██████████| 30/30 [00:00<00:00, 549.26it/s]\n",
      "/home/bawbawz/Project/MLTrading_WSL/src/io/ingest_fundamentals.py:241: FutureWarning: The behavior of DataFrame concatenation with empty or all-NA entries is deprecated. In a future version, this will no longer exclude empty or all-NA columns when determining the result dtypes. To retain the old behavior, exclude the relevant entries before the concat operation.\n",
      "  combined = pd.concat(dfs, ignore_index=True)\n",
      "\u001b[32m2025-10-24 15:40:31.589\u001b[0m | \u001b[1mINFO    \u001b[0m | \u001b[36msrc.io.ingest_fundamentals\u001b[0m:\u001b[36mload_parquet\u001b[0m:\u001b[36m242\u001b[0m - \u001b[1mLoaded 174 rows from 30 symbols\u001b[0m\n",
      "\u001b[32m2025-10-24 15:40:31.590\u001b[0m | \u001b[1mINFO    \u001b[0m | \u001b[36msrc.features.fa_features\u001b[0m:\u001b[36m__init__\u001b[0m:\u001b[36m29\u001b[0m - \u001b[1mInitialized FundamentalFeatures with PIT constraints: min_lag=1, default_lag=45, blackout=2\u001b[0m\n",
      "\u001b[32m2025-10-24 15:40:31.591\u001b[0m | \u001b[1mINFO    \u001b[0m | \u001b[36msrc.features.fa_features\u001b[0m:\u001b[36mcompute_features\u001b[0m:\u001b[36m49\u001b[0m - \u001b[1mComputing fundamental features with PIT alignment\u001b[0m\n"
     ]
    },
    {
     "name": "stdout",
     "output_type": "stream",
     "text": [
      "✓ Loaded 174 fundamental records\n",
      "  Symbols: 30\n",
      "  Date range: 2024-02-29 00:00:00 to 2025-08-31 00:00:00\n",
      "\n",
      "Computing fundamental features with PIT alignment...\n",
      "  PIT constraints:\n",
      "    - Min lag: 1 days\n",
      "    - Default publication lag: 45 days\n",
      "    - Earnings blackout: 2 days\n"
     ]
    },
    {
     "name": "stderr",
     "output_type": "stream",
     "text": [
      "\u001b[32m2025-10-24 15:40:31.592\u001b[0m | \u001b[1mINFO    \u001b[0m | \u001b[36msrc.features.fa_features\u001b[0m:\u001b[36m_align_pit_fundamentals\u001b[0m:\u001b[36m109\u001b[0m - \u001b[1mApplying PIT alignment to fundamentals\u001b[0m\n",
      "\u001b[32m2025-10-24 15:40:31.603\u001b[0m | \u001b[34m\u001b[1mDEBUG   \u001b[0m | \u001b[36msrc.features.fa_features\u001b[0m:\u001b[36m_align_pit_fundamentals\u001b[0m:\u001b[36m121\u001b[0m - \u001b[34m\u001b[1mStripped timezone from price_df['date'] for merge compatibility\u001b[0m\n"
     ]
    },
    {
     "ename": "ValueError",
     "evalue": "left keys must be sorted",
     "output_type": "error",
     "traceback": [
      "\u001b[0;31m---------------------------------------------------------------------------\u001b[0m",
      "\u001b[0;31mValueError\u001b[0m                                Traceback (most recent call last)",
      "Cell \u001b[0;32mIn[9], line 34\u001b[0m\n\u001b[1;32m     31\u001b[0m original_cols \u001b[38;5;241m=\u001b[39m \u001b[38;5;28mlen\u001b[39m(df\u001b[38;5;241m.\u001b[39mcolumns)\n\u001b[1;32m     33\u001b[0m \u001b[38;5;66;03m# Compute and align fundamental features\u001b[39;00m\n\u001b[0;32m---> 34\u001b[0m df \u001b[38;5;241m=\u001b[39m \u001b[43mfa_features\u001b[49m\u001b[38;5;241;43m.\u001b[39;49m\u001b[43mcompute_features\u001b[49m\u001b[43m(\u001b[49m\u001b[43mdf\u001b[49m\u001b[43m,\u001b[49m\u001b[43m \u001b[49m\u001b[43mfundamentals_df\u001b[49m\u001b[43m)\u001b[49m\n\u001b[1;32m     36\u001b[0m new_cols \u001b[38;5;241m=\u001b[39m \u001b[38;5;28mlen\u001b[39m(df\u001b[38;5;241m.\u001b[39mcolumns) \u001b[38;5;241m-\u001b[39m original_cols\n\u001b[1;32m     37\u001b[0m \u001b[38;5;28mprint\u001b[39m(\u001b[38;5;124mf\u001b[39m\u001b[38;5;124m\"\u001b[39m\u001b[38;5;130;01m\\n\u001b[39;00m\u001b[38;5;124m✓ Fundamental features added: \u001b[39m\u001b[38;5;132;01m{\u001b[39;00mnew_cols\u001b[38;5;132;01m}\u001b[39;00m\u001b[38;5;124m new columns\u001b[39m\u001b[38;5;124m\"\u001b[39m)\n",
      "File \u001b[0;32m~/Project/MLTrading_WSL/src/features/fa_features.py:55\u001b[0m, in \u001b[0;36mFundamentalFeatures.compute_features\u001b[0;34m(self, price_df, fundamentals_df)\u001b[0m\n\u001b[1;32m     52\u001b[0m fundamentals_df \u001b[38;5;241m=\u001b[39m \u001b[38;5;28mself\u001b[39m\u001b[38;5;241m.\u001b[39m_ensure_public_date(fundamentals_df)\n\u001b[1;32m     54\u001b[0m \u001b[38;5;66;03m# Align fundamentals to price data with PIT constraints\u001b[39;00m\n\u001b[0;32m---> 55\u001b[0m aligned_df \u001b[38;5;241m=\u001b[39m \u001b[38;5;28;43mself\u001b[39;49m\u001b[38;5;241;43m.\u001b[39;49m\u001b[43m_align_pit_fundamentals\u001b[49m\u001b[43m(\u001b[49m\u001b[43mprice_df\u001b[49m\u001b[43m,\u001b[49m\u001b[43m \u001b[49m\u001b[43mfundamentals_df\u001b[49m\u001b[43m)\u001b[49m\n\u001b[1;32m     57\u001b[0m \u001b[38;5;66;03m# Compute derived ratios\u001b[39;00m\n\u001b[1;32m     58\u001b[0m aligned_df \u001b[38;5;241m=\u001b[39m \u001b[38;5;28mself\u001b[39m\u001b[38;5;241m.\u001b[39m_compute_ratios(aligned_df)\n",
      "File \u001b[0;32m~/Project/MLTrading_WSL/src/features/fa_features.py:139\u001b[0m, in \u001b[0;36mFundamentalFeatures._align_pit_fundamentals\u001b[0;34m(self, price_df, fundamentals_df)\u001b[0m\n\u001b[1;32m    136\u001b[0m fundamentals_df \u001b[38;5;241m=\u001b[39m fundamentals_df\u001b[38;5;241m.\u001b[39msort_values([\u001b[38;5;124m'\u001b[39m\u001b[38;5;124msymbol\u001b[39m\u001b[38;5;124m'\u001b[39m, \u001b[38;5;124m'\u001b[39m\u001b[38;5;124mavailable_date\u001b[39m\u001b[38;5;124m'\u001b[39m])\u001b[38;5;241m.\u001b[39mreset_index(drop\u001b[38;5;241m=\u001b[39m\u001b[38;5;28;01mTrue\u001b[39;00m)\n\u001b[1;32m    138\u001b[0m \u001b[38;5;66;03m# Merge as-of join (using available_date as key)\u001b[39;00m\n\u001b[0;32m--> 139\u001b[0m aligned \u001b[38;5;241m=\u001b[39m \u001b[43mpd\u001b[49m\u001b[38;5;241;43m.\u001b[39;49m\u001b[43mmerge_asof\u001b[49m\u001b[43m(\u001b[49m\n\u001b[1;32m    140\u001b[0m \u001b[43m    \u001b[49m\u001b[43mprice_df\u001b[49m\u001b[43m,\u001b[49m\n\u001b[1;32m    141\u001b[0m \u001b[43m    \u001b[49m\u001b[43mfundamentals_df\u001b[49m\u001b[43m,\u001b[49m\n\u001b[1;32m    142\u001b[0m \u001b[43m    \u001b[49m\u001b[43mleft_on\u001b[49m\u001b[38;5;241;43m=\u001b[39;49m\u001b[38;5;124;43m'\u001b[39;49m\u001b[38;5;124;43mdate\u001b[39;49m\u001b[38;5;124;43m'\u001b[39;49m\u001b[43m,\u001b[49m\n\u001b[1;32m    143\u001b[0m \u001b[43m    \u001b[49m\u001b[43mright_on\u001b[49m\u001b[38;5;241;43m=\u001b[39;49m\u001b[38;5;124;43m'\u001b[39;49m\u001b[38;5;124;43mavailable_date\u001b[39;49m\u001b[38;5;124;43m'\u001b[39;49m\u001b[43m,\u001b[49m\n\u001b[1;32m    144\u001b[0m \u001b[43m    \u001b[49m\u001b[43mby\u001b[49m\u001b[38;5;241;43m=\u001b[39;49m\u001b[38;5;124;43m'\u001b[39;49m\u001b[38;5;124;43msymbol\u001b[39;49m\u001b[38;5;124;43m'\u001b[39;49m\u001b[43m,\u001b[49m\n\u001b[1;32m    145\u001b[0m \u001b[43m    \u001b[49m\u001b[43mdirection\u001b[49m\u001b[38;5;241;43m=\u001b[39;49m\u001b[38;5;124;43m'\u001b[39;49m\u001b[38;5;124;43mbackward\u001b[39;49m\u001b[38;5;124;43m'\u001b[39;49m\u001b[43m,\u001b[49m\u001b[43m  \u001b[49m\u001b[38;5;66;43;03m# Use most recent available data\u001b[39;49;00m\n\u001b[1;32m    146\u001b[0m \u001b[43m    \u001b[49m\u001b[43msuffixes\u001b[49m\u001b[38;5;241;43m=\u001b[39;49m\u001b[43m(\u001b[49m\u001b[38;5;124;43m'\u001b[39;49m\u001b[38;5;124;43m'\u001b[39;49m\u001b[43m,\u001b[49m\u001b[43m \u001b[49m\u001b[38;5;124;43m'\u001b[39;49m\u001b[38;5;124;43m_fund\u001b[39;49m\u001b[38;5;124;43m'\u001b[39;49m\u001b[43m)\u001b[49m\n\u001b[1;32m    147\u001b[0m \u001b[43m\u001b[49m\u001b[43m)\u001b[49m\n\u001b[1;32m    149\u001b[0m \u001b[38;5;66;03m# Apply earnings blackout filter\u001b[39;00m\n\u001b[1;32m    150\u001b[0m aligned \u001b[38;5;241m=\u001b[39m \u001b[38;5;28mself\u001b[39m\u001b[38;5;241m.\u001b[39m_apply_earnings_blackout(aligned)\n",
      "File \u001b[0;32m~/miniconda3/envs/us-stock-app/lib/python3.10/site-packages/pandas/core/reshape/merge.py:708\u001b[0m, in \u001b[0;36mmerge_asof\u001b[0;34m(left, right, on, left_on, right_on, left_index, right_index, by, left_by, right_by, suffixes, tolerance, allow_exact_matches, direction)\u001b[0m\n\u001b[1;32m    456\u001b[0m \u001b[38;5;250m\u001b[39m\u001b[38;5;124;03m\"\"\"\u001b[39;00m\n\u001b[1;32m    457\u001b[0m \u001b[38;5;124;03mPerform a merge by key distance.\u001b[39;00m\n\u001b[1;32m    458\u001b[0m \n\u001b[0;32m   (...)\u001b[0m\n\u001b[1;32m    689\u001b[0m \u001b[38;5;124;03m4 2016-05-25 13:30:00.048   AAPL   98.00       100     NaN     NaN\u001b[39;00m\n\u001b[1;32m    690\u001b[0m \u001b[38;5;124;03m\"\"\"\u001b[39;00m\n\u001b[1;32m    691\u001b[0m op \u001b[38;5;241m=\u001b[39m _AsOfMerge(\n\u001b[1;32m    692\u001b[0m     left,\n\u001b[1;32m    693\u001b[0m     right,\n\u001b[0;32m   (...)\u001b[0m\n\u001b[1;32m    706\u001b[0m     direction\u001b[38;5;241m=\u001b[39mdirection,\n\u001b[1;32m    707\u001b[0m )\n\u001b[0;32m--> 708\u001b[0m \u001b[38;5;28;01mreturn\u001b[39;00m \u001b[43mop\u001b[49m\u001b[38;5;241;43m.\u001b[39;49m\u001b[43mget_result\u001b[49m\u001b[43m(\u001b[49m\u001b[43m)\u001b[49m\n",
      "File \u001b[0;32m~/miniconda3/envs/us-stock-app/lib/python3.10/site-packages/pandas/core/reshape/merge.py:1927\u001b[0m, in \u001b[0;36m_OrderedMerge.get_result\u001b[0;34m(self, copy)\u001b[0m\n\u001b[1;32m   1926\u001b[0m \u001b[38;5;28;01mdef\u001b[39;00m\u001b[38;5;250m \u001b[39m\u001b[38;5;21mget_result\u001b[39m(\u001b[38;5;28mself\u001b[39m, copy: \u001b[38;5;28mbool\u001b[39m \u001b[38;5;241m|\u001b[39m \u001b[38;5;28;01mNone\u001b[39;00m \u001b[38;5;241m=\u001b[39m \u001b[38;5;28;01mTrue\u001b[39;00m) \u001b[38;5;241m-\u001b[39m\u001b[38;5;241m>\u001b[39m DataFrame:\n\u001b[0;32m-> 1927\u001b[0m     join_index, left_indexer, right_indexer \u001b[38;5;241m=\u001b[39m \u001b[38;5;28;43mself\u001b[39;49m\u001b[38;5;241;43m.\u001b[39;49m\u001b[43m_get_join_info\u001b[49m\u001b[43m(\u001b[49m\u001b[43m)\u001b[49m\n\u001b[1;32m   1929\u001b[0m     left_join_indexer: npt\u001b[38;5;241m.\u001b[39mNDArray[np\u001b[38;5;241m.\u001b[39mintp] \u001b[38;5;241m|\u001b[39m \u001b[38;5;28;01mNone\u001b[39;00m\n\u001b[1;32m   1930\u001b[0m     right_join_indexer: npt\u001b[38;5;241m.\u001b[39mNDArray[np\u001b[38;5;241m.\u001b[39mintp] \u001b[38;5;241m|\u001b[39m \u001b[38;5;28;01mNone\u001b[39;00m\n",
      "File \u001b[0;32m~/miniconda3/envs/us-stock-app/lib/python3.10/site-packages/pandas/core/reshape/merge.py:1152\u001b[0m, in \u001b[0;36m_MergeOperation._get_join_info\u001b[0;34m(self)\u001b[0m\n\u001b[1;32m   1148\u001b[0m     join_index, right_indexer, left_indexer \u001b[38;5;241m=\u001b[39m _left_join_on_index(\n\u001b[1;32m   1149\u001b[0m         right_ax, left_ax, \u001b[38;5;28mself\u001b[39m\u001b[38;5;241m.\u001b[39mright_join_keys, sort\u001b[38;5;241m=\u001b[39m\u001b[38;5;28mself\u001b[39m\u001b[38;5;241m.\u001b[39msort\n\u001b[1;32m   1150\u001b[0m     )\n\u001b[1;32m   1151\u001b[0m \u001b[38;5;28;01melse\u001b[39;00m:\n\u001b[0;32m-> 1152\u001b[0m     (left_indexer, right_indexer) \u001b[38;5;241m=\u001b[39m \u001b[38;5;28;43mself\u001b[39;49m\u001b[38;5;241;43m.\u001b[39;49m\u001b[43m_get_join_indexers\u001b[49m\u001b[43m(\u001b[49m\u001b[43m)\u001b[49m\n\u001b[1;32m   1154\u001b[0m     \u001b[38;5;28;01mif\u001b[39;00m \u001b[38;5;28mself\u001b[39m\u001b[38;5;241m.\u001b[39mright_index:\n\u001b[1;32m   1155\u001b[0m         \u001b[38;5;28;01mif\u001b[39;00m \u001b[38;5;28mlen\u001b[39m(\u001b[38;5;28mself\u001b[39m\u001b[38;5;241m.\u001b[39mleft) \u001b[38;5;241m>\u001b[39m \u001b[38;5;241m0\u001b[39m:\n",
      "File \u001b[0;32m~/miniconda3/envs/us-stock-app/lib/python3.10/site-packages/pandas/core/reshape/merge.py:2239\u001b[0m, in \u001b[0;36m_AsOfMerge._get_join_indexers\u001b[0;34m(self)\u001b[0m\n\u001b[1;32m   2236\u001b[0m         tolerance \u001b[38;5;241m=\u001b[39m tolerance\u001b[38;5;241m.\u001b[39m_value\n\u001b[1;32m   2238\u001b[0m \u001b[38;5;66;03m# initial type conversion as needed\u001b[39;00m\n\u001b[0;32m-> 2239\u001b[0m left_values \u001b[38;5;241m=\u001b[39m \u001b[38;5;28;43mself\u001b[39;49m\u001b[38;5;241;43m.\u001b[39;49m\u001b[43m_convert_values_for_libjoin\u001b[49m\u001b[43m(\u001b[49m\u001b[43mleft_values\u001b[49m\u001b[43m,\u001b[49m\u001b[43m \u001b[49m\u001b[38;5;124;43m\"\u001b[39;49m\u001b[38;5;124;43mleft\u001b[39;49m\u001b[38;5;124;43m\"\u001b[39;49m\u001b[43m)\u001b[49m\n\u001b[1;32m   2240\u001b[0m right_values \u001b[38;5;241m=\u001b[39m \u001b[38;5;28mself\u001b[39m\u001b[38;5;241m.\u001b[39m_convert_values_for_libjoin(right_values, \u001b[38;5;124m\"\u001b[39m\u001b[38;5;124mright\u001b[39m\u001b[38;5;124m\"\u001b[39m)\n\u001b[1;32m   2242\u001b[0m \u001b[38;5;66;03m# a \"by\" parameter requires special handling\u001b[39;00m\n",
      "File \u001b[0;32m~/miniconda3/envs/us-stock-app/lib/python3.10/site-packages/pandas/core/reshape/merge.py:2183\u001b[0m, in \u001b[0;36m_AsOfMerge._convert_values_for_libjoin\u001b[0;34m(self, values, side)\u001b[0m\n\u001b[1;32m   2181\u001b[0m     \u001b[38;5;28;01mif\u001b[39;00m isna(values)\u001b[38;5;241m.\u001b[39many():\n\u001b[1;32m   2182\u001b[0m         \u001b[38;5;28;01mraise\u001b[39;00m \u001b[38;5;167;01mValueError\u001b[39;00m(\u001b[38;5;124mf\u001b[39m\u001b[38;5;124m\"\u001b[39m\u001b[38;5;124mMerge keys contain null values on \u001b[39m\u001b[38;5;132;01m{\u001b[39;00mside\u001b[38;5;132;01m}\u001b[39;00m\u001b[38;5;124m side\u001b[39m\u001b[38;5;124m\"\u001b[39m)\n\u001b[0;32m-> 2183\u001b[0m     \u001b[38;5;28;01mraise\u001b[39;00m \u001b[38;5;167;01mValueError\u001b[39;00m(\u001b[38;5;124mf\u001b[39m\u001b[38;5;124m\"\u001b[39m\u001b[38;5;132;01m{\u001b[39;00mside\u001b[38;5;132;01m}\u001b[39;00m\u001b[38;5;124m keys must be sorted\u001b[39m\u001b[38;5;124m\"\u001b[39m)\n\u001b[1;32m   2185\u001b[0m \u001b[38;5;28;01mif\u001b[39;00m \u001b[38;5;28misinstance\u001b[39m(values, ArrowExtensionArray):\n\u001b[1;32m   2186\u001b[0m     values \u001b[38;5;241m=\u001b[39m values\u001b[38;5;241m.\u001b[39m_maybe_convert_datelike_array()\n",
      "\u001b[0;31mValueError\u001b[0m: left keys must be sorted"
     ]
    }
   ],
   "source": [
    "# Reload the module to get latest fixes\n",
    "import importlib\n",
    "import sys\n",
    "if 'src.features.fa_features' in sys.modules:\n",
    "    importlib.reload(sys.modules['src.features.fa_features'])\n",
    "    print(\"✓ Reloaded fa_features module\")\n",
    "\n",
    "from src.features.fa_features import FundamentalFeatures\n",
    "\n",
    "print(\"Loading fundamental data...\")\n",
    "# Load all saved fundamental data\n",
    "fundamentals_df = fund_ingester.load_parquet(symbols)\n",
    "\n",
    "if fundamentals_df.empty:\n",
    "    print(\"⚠️ No fundamental data found. Run Step 1.5 first.\")\n",
    "else:\n",
    "    print(f\"✓ Loaded {len(fundamentals_df)} fundamental records\")\n",
    "    print(f\"  Symbols: {fundamentals_df['symbol'].nunique()}\")\n",
    "    print(f\"  Date range: {fundamentals_df['date'].min()} to {fundamentals_df['date'].max()}\")\n",
    "    \n",
    "    # Initialize fundamental features with PIT alignment\n",
    "    fa_features = FundamentalFeatures(config)\n",
    "    \n",
    "    print(\"\\nComputing fundamental features with PIT alignment...\")\n",
    "    print(f\"  PIT constraints:\")\n",
    "    print(f\"    - Min lag: {fa_features.pit_min_lag_days} days\")\n",
    "    print(f\"    - Default publication lag: {fa_features.default_public_lag_days} days\")\n",
    "    print(f\"    - Earnings blackout: {fa_features.earnings_blackout_days} days\")\n",
    "    \n",
    "    # Store original column count\n",
    "    original_cols = len(df.columns)\n",
    "    \n",
    "    # Compute and align fundamental features\n",
    "    df = fa_features.compute_features(df, fundamentals_df)\n",
    "    \n",
    "    new_cols = len(df.columns) - original_cols\n",
    "    print(f\"\\n✓ Fundamental features added: {new_cols} new columns\")\n",
    "    \n",
    "    # Show new fundamental feature columns\n",
    "    fund_feature_cols = [col for col in df.columns if any(x in col for x in ['ratio', 'roe', 'roa', 'debt', 'margin', 'qoq', 'quality', 'equity', 'revenue', 'income', 'cash_flow'])]\n",
    "    print(f\"\\nSample fundamental features:\")\n",
    "    for col in fund_feature_cols[:15]:\n",
    "        print(f\"  - {col}\")\n",
    "    if len(fund_feature_cols) > 15:\n",
    "        print(f\"  ... and {len(fund_feature_cols) - 15} more\")"
   ]
  },
  {
   "cell_type": "code",
   "execution_count": null,
   "metadata": {},
   "outputs": [],
   "source": [
    "# Generate technical features\n",
    "print(\"Generating technical features...\")\n",
    "df = create_technical_features(df, config)\n",
    "\n",
    "print(f\"\\n✓ Technical features created\")\n",
    "print(f\"  Total columns now: {len(df.columns)}\")\n",
    "\n",
    "# Show feature columns\n",
    "feature_cols = [col for col in df.columns if col not in ['date', 'symbol', 'open', 'high', 'low', 'close', 'volume', 'adj_close']]\n",
    "print(f\"\\nGenerated features ({len(feature_cols)}):\")\n",
    "for col in feature_cols[:10]:\n",
    "    print(f\"  - {col}\")\n",
    "if len(feature_cols) > 10:\n",
    "    print(f\"  ... and {len(feature_cols) - 10} more\")"
   ]
  },
  {
   "cell_type": "code",
   "execution_count": null,
   "metadata": {},
   "outputs": [],
   "source": [
    "# Generate forward return labels\n",
    "print(\"Generating forward return labels...\")\n",
    "df = generate_forward_returns(df, config)\n",
    "\n",
    "label_col = f\"forward_return_{config['labels']['horizon']}d\"\n",
    "print(f\"\\n✓ Labels created: {label_col}\")\n",
    "print(f\"\\nLabel statistics:\")\n",
    "print(df[label_col].describe())"
   ]
  },
  {
   "cell_type": "code",
   "execution_count": null,
   "metadata": {},
   "outputs": [],
   "source": [
    "# Visualize label distribution\n",
    "fig, axes = plt.subplots(1, 2, figsize=(14, 5))\n",
    "\n",
    "# Histogram\n",
    "axes[0].hist(df[label_col].dropna(), bins=50, alpha=0.7, edgecolor='black')\n",
    "axes[0].set_title('Forward Returns Distribution', fontsize=14, fontweight='bold')\n",
    "axes[0].set_xlabel(f'{label_col} (%)')\n",
    "axes[0].set_ylabel('Frequency')\n",
    "axes[0].axvline(0, color='red', linestyle='--', linewidth=2, label='Zero return')\n",
    "axes[0].legend()\n",
    "axes[0].grid(True, alpha=0.3)\n",
    "\n",
    "# Box plot by symbol (sample)\n",
    "sample_symbols = symbols[:10]\n",
    "sample_data = df[df['symbol'].isin(sample_symbols)]\n",
    "sample_data.boxplot(column=label_col, by='symbol', ax=axes[1], rot=45)\n",
    "axes[1].set_title('Forward Returns by Symbol (Sample)', fontsize=14, fontweight='bold')\n",
    "axes[1].set_xlabel('Symbol')\n",
    "axes[1].set_ylabel(f'{label_col} (%)')\n",
    "plt.suptitle('')  # Remove default title\n",
    "\n",
    "plt.tight_layout()\n",
    "plt.show()"
   ]
  },
  {
   "cell_type": "code",
   "execution_count": null,
   "metadata": {},
   "outputs": [],
   "source": [
    "# Save features\n",
    "from src.io.storage import save_dataframe\n",
    "\n",
    "save_dataframe(df, 'data/features/all_features.parquet')\n",
    "print(\"✓ Features saved to data/features/all_features.parquet\")\n",
    "\n",
    "# Check for missing values\n",
    "missing_pct = (df.isnull().sum() / len(df) * 100).sort_values(ascending=False)\n",
    "print(f\"\\nMissing values (top 10 columns with most nulls):\")\n",
    "print(missing_pct.head(10))"
   ]
  },
  {
   "cell_type": "code",
   "execution_count": null,
   "metadata": {},
   "outputs": [],
   "source": [
    "# Visualize fundamental features distribution\n",
    "try:\n",
    "    fundamentals_df\n",
    "    fund_feature_cols\n",
    "    can_visualize = not fundamentals_df.empty and len(fund_feature_cols) > 0\n",
    "except NameError:\n",
    "    can_visualize = False\n",
    "    print(\"ℹ️ No fundamental features to visualize\")\n",
    "\n",
    "if can_visualize:\n",
    "    fig, axes = plt.subplots(2, 2, figsize=(14, 10))\n",
    "    \n",
    "    # Select key fundamental features\n",
    "    viz_features = []\n",
    "    for feat in ['pe_ratio_calc', 'roe_calc', 'debt_to_equity_calc', 'profit_margin']:\n",
    "        if feat in df.columns:\n",
    "            viz_features.append(feat)\n",
    "    \n",
    "    if len(viz_features) >= 4:\n",
    "        for idx, feat in enumerate(viz_features[:4]):\n",
    "            row = idx // 2\n",
    "            col = idx % 2\n",
    "            \n",
    "            data = df[feat].dropna()\n",
    "            if len(data) > 0:\n",
    "                axes[row, col].hist(data, bins=50, alpha=0.7, edgecolor='black')\n",
    "                axes[row, col].set_title(f'{feat} Distribution', fontsize=12, fontweight='bold')\n",
    "                axes[row, col].set_xlabel(feat)\n",
    "                axes[row, col].set_ylabel('Frequency')\n",
    "                axes[row, col].grid(True, alpha=0.3)\n",
    "                \n",
    "                # Add mean/median lines\n",
    "                mean_val = data.mean()\n",
    "                median_val = data.median()\n",
    "                axes[row, col].axvline(mean_val, color='red', linestyle='--', linewidth=2, label=f'Mean: {mean_val:.2f}')\n",
    "                axes[row, col].axvline(median_val, color='green', linestyle='--', linewidth=2, label=f'Median: {median_val:.2f}')\n",
    "                axes[row, col].legend()\n",
    "        \n",
    "        plt.tight_layout()\n",
    "        plt.show()\n",
    "        \n",
    "        print(\"\\n\" + \"=\"*60)\n",
    "        print(\"FUNDAMENTAL FEATURES SUMMARY\")\n",
    "        print(\"=\"*60)\n",
    "        print(f\"Total fundamental features: {len(fund_feature_cols)}\")\n",
    "        print(f\"\\nCoverage (non-null ratio):\")\n",
    "        for feat in fund_feature_cols[:10]:\n",
    "            if feat in df.columns:\n",
    "                coverage = (df[feat].notna().sum() / len(df)) * 100\n",
    "                print(f\"  {feat}: {coverage:.1f}%\")\n",
    "        print(\"=\"*60)\n",
    "    else:\n",
    "        print(f\"⚠️ Only {len(viz_features)} fundamental features found (need 4 for visualization)\")"
   ]
  },
  {
   "cell_type": "markdown",
   "metadata": {},
   "source": [
    "### Visualization: Fundamental Features Distribution\n",
    "\n",
    "Visualize the distribution of key fundamental features to understand the data."
   ]
  },
  {
   "cell_type": "code",
   "execution_count": null,
   "metadata": {},
   "outputs": [],
   "source": [
    "# Verification: Check PIT alignment\n",
    "try:\n",
    "    fundamentals_df\n",
    "    has_fundamentals = not fundamentals_df.empty\n",
    "except NameError:\n",
    "    has_fundamentals = False\n",
    "    print(\"⚠️ fundamentals_df not defined - skipping PIT verification\")\n",
    "\n",
    "if has_fundamentals and 'public_date' in df.columns:\n",
    "    print(\"=\"*70)\n",
    "    print(\"PIT ALIGNMENT VERIFICATION\")\n",
    "    print(\"=\"*70)\n",
    "    \n",
    "    # Check 1: Ensure all public_dates are before or equal to price dates\n",
    "    df_with_fund = df[df['public_date'].notna()].copy()\n",
    "    \n",
    "    if len(df_with_fund) > 0:\n",
    "        # Calculate days between public_date and price date\n",
    "        df_with_fund['days_after_publication'] = (df_with_fund['date'] - df_with_fund['public_date']).dt.days\n",
    "        \n",
    "        print(f\"\\n✓ Fundamental data coverage: {len(df_with_fund):,} rows ({len(df_with_fund)/len(df)*100:.1f}%)\")\n",
    "        print(f\"\\nDays between publication and price date:\")\n",
    "        print(df_with_fund['days_after_publication'].describe())\n",
    "        \n",
    "        # Check for any violations (price date before public date)\n",
    "        violations = df_with_fund[df_with_fund['days_after_publication'] < 0]\n",
    "        if len(violations) > 0:\n",
    "            print(f\"\\n⚠️ WARNING: Found {len(violations)} PIT violations!\")\n",
    "            print(\"These rows have price dates BEFORE fundamental publication dates.\")\n",
    "            print(violations[['date', 'symbol', 'public_date', 'days_after_publication']].head())\n",
    "        else:\n",
    "            print(f\"\\n✓ No PIT violations detected\")\n",
    "        \n",
    "        # Check 2: Verify minimum lag constraint\n",
    "        try:\n",
    "            fa_features\n",
    "            min_lag_violations = df_with_fund[df_with_fund['days_after_publication'] < fa_features.pit_min_lag_days]\n",
    "            if len(min_lag_violations) > 0:\n",
    "                print(f\"\\n⚠️ WARNING: {len(min_lag_violations)} rows violate minimum lag ({fa_features.pit_min_lag_days} days)\")\n",
    "            else:\n",
    "                print(f\"\\n✓ All rows respect minimum lag constraint ({fa_features.pit_min_lag_days} days)\")\n",
    "        except NameError:\n",
    "            pass\n",
    "        \n",
    "        # Sample verification\n",
    "        print(f\"\\nSample PIT-aligned data (5 random rows):\")\n",
    "        sample_cols = ['date', 'symbol', 'public_date', 'days_after_publication']\n",
    "        if 'pe_ratio_calc' in df_with_fund.columns:\n",
    "            sample_cols.append('pe_ratio_calc')\n",
    "        \n",
    "        sample_rows = df_with_fund.sample(min(5, len(df_with_fund)))[sample_cols]\n",
    "        for _, row in sample_rows.iterrows():\n",
    "            print(f\"  {row['symbol']} on {row['date'].date()}: data from {row['public_date'].date()} ({int(row['days_after_publication'])} days ago)\")\n",
    "    \n",
    "    print(\"=\"*70)\n",
    "elif has_fundamentals:\n",
    "    print(\"⚠️ Cannot verify PIT alignment - public_date column not found\")\n",
    "else:\n",
    "    print(\"ℹ️ No fundamental data loaded - PIT verification skipped\")"
   ]
  },
  {
   "cell_type": "markdown",
   "metadata": {},
   "source": [
    "### Verification: PIT Alignment Check\n",
    "\n",
    "Verify that fundamental data is properly aligned and no look-ahead bias exists."
   ]
  },
  {
   "cell_type": "markdown",
   "metadata": {},
   "source": [
    "---\n",
    "## Step 3: Model Training\n",
    "\n",
    "Train ML model to predict forward returns."
   ]
  },
  {
   "cell_type": "code",
   "execution_count": null,
   "metadata": {},
   "outputs": [],
   "source": [
    "from src.ml.dataset import MLDataset, create_time_based_split\n",
    "from src.ml.train import ModelTrainer\n",
    "\n",
    "# Prepare dataset\n",
    "label_col = f\"forward_return_{config['labels']['horizon']}d\"\n",
    "dataset = MLDataset(label_col=label_col)\n",
    "\n",
    "print(f\"Preparing ML dataset with label: {label_col}\")"
   ]
  },
  {
   "cell_type": "code",
   "execution_count": null,
   "metadata": {},
   "outputs": [],
   "source": [
    "# Time-based train/test split (crucial for time-series)\n",
    "embargo_days = config['modeling'].get('embargo_days', 5)\n",
    "train_df, test_df = create_time_based_split(df, test_size=0.2, embargo_days=embargo_days)\n",
    "\n",
    "print(f\"✓ Data split with {embargo_days}-day embargo\")\n",
    "print(f\"\\nTrain set:\")\n",
    "print(f\"  Rows: {len(train_df):,}\")\n",
    "print(f\"  Date range: {train_df['date'].min()} to {train_df['date'].max()}\")\n",
    "print(f\"\\nTest set:\")\n",
    "print(f\"  Rows: {len(test_df):,}\")\n",
    "print(f\"  Date range: {test_df['date'].min()} to {test_df['date'].max()}\")"
   ]
  },
  {
   "cell_type": "code",
   "execution_count": null,
   "metadata": {},
   "outputs": [],
   "source": [
    "# Train model with MLflow tracking\n",
    "trainer = ModelTrainer(config)\n",
    "\n",
    "print(f\"Training {config['modeling']['algorithm']} model...\")\n",
    "print(\"This may take 3-5 minutes...\\n\")\n",
    "\n",
    "trainer.train_with_mlflow(\n",
    "    X_train, y_train, \n",
    "    X_test, y_test, \n",
    "    run_name=\"interactive_notebook_run\"\n",
    ")\n",
    "\n",
    "print(\"\\n✓ Model training complete\")"
   ]
  },
  {
   "cell_type": "code",
   "execution_count": null,
   "metadata": {},
   "outputs": [],
   "source": [
    "# Prepare features and labels\n",
    "X_train, y_train = dataset.prepare(train_df, auto_select_features=True)\n",
    "X_test, y_test = dataset.prepare(test_df, auto_select_features=False)\n",
    "\n",
    "print(f\"✓ Features prepared\")\n",
    "print(f\"\\nTraining set:\")\n",
    "print(f\"  Samples: {len(X_train):,}\")\n",
    "print(f\"  Features: {len(X_train.columns)}\")\n",
    "print(f\"\\nTest set:\")\n",
    "print(f\"  Samples: {len(X_test):,}\")\n",
    "print(f\"\\nSelected features:\")\n",
    "for feat in X_train.columns[:15]:\n",
    "    print(f\"  - {feat}\")\n",
    "if len(X_train.columns) > 15:\n",
    "    print(f\"  ... and {len(X_train.columns) - 15} more\")"
   ]
  },
  {
   "cell_type": "code",
   "execution_count": null,
   "metadata": {},
   "outputs": [],
   "source": [
    "# Evaluate model\n",
    "metrics = trainer.evaluate(X_test, y_test)\n",
    "\n",
    "print(\"\\n=\" * 50)\n",
    "print(\"MODEL EVALUATION METRICS\")\n",
    "print(\"=\" * 50)\n",
    "print(f\"\\nInformation Coefficient (IC):      {metrics['ic']:.4f}\")\n",
    "print(f\"Rank IC:                            {metrics['rank_ic']:.4f}\")\n",
    "print(f\"Mean Squared Error (MSE):           {metrics['mse']:.6f}\")\n",
    "print(f\"R² Score:                           {metrics.get('r2', 0):.4f}\")\n",
    "\n",
    "# IC interpretation guide\n",
    "print(\"\\n\" + \"-\" * 50)\n",
    "print(\"IC Interpretation Guide:\")\n",
    "print(\"  |IC| > 0.05: Good predictive power\")\n",
    "print(\"  |IC| > 0.10: Excellent predictive power\")\n",
    "print(\"  IC > 0:     Positive correlation (correct direction)\")\n",
    "print(\"-\" * 50)"
   ]
  },
  {
   "cell_type": "code",
   "execution_count": null,
   "metadata": {},
   "outputs": [],
   "source": [
    "# Visualize predictions vs actuals\n",
    "predictions = trainer.predict(X_test)\n",
    "\n",
    "fig, axes = plt.subplots(1, 2, figsize=(14, 5))\n",
    "\n",
    "# Scatter plot\n",
    "axes[0].scatter(y_test, predictions, alpha=0.3, s=10)\n",
    "axes[0].plot([y_test.min(), y_test.max()], [y_test.min(), y_test.max()], 'r--', lw=2, label='Perfect prediction')\n",
    "axes[0].set_xlabel('Actual Forward Returns')\n",
    "axes[0].set_ylabel('Predicted Forward Returns')\n",
    "axes[0].set_title('Predictions vs Actuals', fontsize=14, fontweight='bold')\n",
    "axes[0].legend()\n",
    "axes[0].grid(True, alpha=0.3)\n",
    "\n",
    "# Residuals\n",
    "residuals = y_test - predictions\n",
    "axes[1].hist(residuals, bins=50, alpha=0.7, edgecolor='black')\n",
    "axes[1].axvline(0, color='red', linestyle='--', linewidth=2, label='Zero error')\n",
    "axes[1].set_xlabel('Prediction Error')\n",
    "axes[1].set_ylabel('Frequency')\n",
    "axes[1].set_title('Prediction Residuals', fontsize=14, fontweight='bold')\n",
    "axes[1].legend()\n",
    "axes[1].grid(True, alpha=0.3)\n",
    "\n",
    "plt.tight_layout()\n",
    "plt.show()"
   ]
  },
  {
   "cell_type": "code",
   "execution_count": null,
   "metadata": {},
   "outputs": [],
   "source": [
    "# Save model\n",
    "import os\n",
    "model_path = 'data/models/latest_model.pkl'\n",
    "os.makedirs(os.path.dirname(model_path), exist_ok=True)\n",
    "trainer.save_model(model_path)\n",
    "print(f\"✓ Model saved to {model_path}\")"
   ]
  },
  {
   "cell_type": "markdown",
   "metadata": {},
   "source": [
    "---\n",
    "## Step 4: Portfolio Construction & Backtesting\n",
    "\n",
    "Use ML scores to construct portfolio and backtest with realistic costs."
   ]
  },
  {
   "cell_type": "code",
   "execution_count": null,
   "metadata": {},
   "outputs": [],
   "source": [
    "from src.portfolio.construct import construct_portfolio\n",
    "from src.backtest.bt_engine import VectorizedBacktester\n",
    "\n",
    "# Generate scores for test period\n",
    "X_test_full, _ = dataset.prepare(test_df, auto_select_features=False)\n",
    "scores = trainer.predict(X_test_full)\n",
    "\n",
    "# Filter test_df to match X_test_full (remove rows with missing labels)\n",
    "test_df_clean = test_df[test_df[label_col].notna()].copy()\n",
    "scored_df = test_df_clean[['date', 'symbol']].copy()\n",
    "scored_df['ml_score'] = scores\n",
    "\n",
    "print(f\"✓ Generated ML scores for {len(scored_df):,} observations\")\n",
    "print(f\"\\nScore statistics:\")\n",
    "print(scored_df['ml_score'].describe())"
   ]
  },
  {
   "cell_type": "code",
   "execution_count": null,
   "metadata": {},
   "outputs": [],
   "source": [
    "# Get price panel (always use real close prices!)\n",
    "price_panel = df[['date', 'symbol', 'close']].copy()\n",
    "\n",
    "print(f\"Price panel: {len(price_panel):,} rows\")\n",
    "print(f\"Date range: {price_panel['date'].min()} to {price_panel['date'].max()}\")"
   ]
  },
  {
   "cell_type": "code",
   "execution_count": null,
   "metadata": {},
   "outputs": [],
   "source": [
    "# Construct portfolio weights over time\n",
    "print(\"Constructing portfolio weights...\")\n",
    "print(f\"Using optimizer: {config['portfolio']['optimizer']}\")\n",
    "print(f\"Top K positions: {config['portfolio']['top_k']}\\n\")\n",
    "\n",
    "weights_history = []\n",
    "unique_dates = sorted(scored_df['date'].unique())\n",
    "\n",
    "# Limit to first 50 dates for demo (faster execution)\n",
    "MAX_DATES = 50\n",
    "rebalance_dates = unique_dates[:min(MAX_DATES, len(unique_dates))]\n",
    "\n",
    "print(f\"Constructing portfolio for {len(rebalance_dates)} rebalance dates...\")\n",
    "\n",
    "for i, date in enumerate(rebalance_dates):\n",
    "    if i % 10 == 0:\n",
    "        print(f\"  Processing date {i+1}/{len(rebalance_dates)}: {date}\")\n",
    "    \n",
    "    day_scores = scored_df[scored_df['date'] == date]\n",
    "    weights = construct_portfolio(day_scores, price_panel, config)\n",
    "    \n",
    "    for symbol, weight in weights.items():\n",
    "        weights_history.append({\n",
    "            'date': date,\n",
    "            'symbol': symbol,\n",
    "            'weight': weight\n",
    "        })\n",
    "\n",
    "weights_df = pd.DataFrame(weights_history)\n",
    "print(f\"\\n✓ Portfolio weights constructed\")\n",
    "print(f\"  Total weight records: {len(weights_df):,}\")\n",
    "print(f\"  Average positions per rebalance: {len(weights_df) / len(rebalance_dates):.1f}\")"
   ]
  },
  {
   "cell_type": "code",
   "execution_count": null,
   "metadata": {},
   "outputs": [],
   "source": [
    "# Examine portfolio weights\n",
    "print(\"Sample portfolio weights:\")\n",
    "print(weights_df.head(20))\n",
    "\n",
    "# Weight statistics\n",
    "print(f\"\\nWeight statistics:\")\n",
    "print(weights_df['weight'].describe())\n",
    "\n",
    "# Check constraints\n",
    "weights_sum = weights_df.groupby('date')['weight'].sum()\n",
    "print(f\"\\nPortfolio weight sum per date:\")\n",
    "print(f\"  Mean: {weights_sum.mean():.4f}\")\n",
    "print(f\"  Min:  {weights_sum.min():.4f}\")\n",
    "print(f\"  Max:  {weights_sum.max():.4f}\")\n",
    "print(f\"\\n✓ Weights sum to ~1.0 (constraint satisfied)\")"
   ]
  },
  {
   "cell_type": "code",
   "execution_count": null,
   "metadata": {},
   "outputs": [],
   "source": [
    "# Run backtest\n",
    "print(\"Running backtest...\")\n",
    "print(f\"Cost assumptions:\")\n",
    "print(f\"  Commission: {config['portfolio']['costs_bps']} bps\")\n",
    "print(f\"  Slippage:   {config['portfolio']['slippage_bps']} bps\\n\")\n",
    "\n",
    "backtester = VectorizedBacktester(config)\n",
    "results = backtester.run(weights_df, price_panel)\n",
    "\n",
    "print(\"\\n\" + \"=\" * 50)\n",
    "print(\"BACKTEST RESULTS\")\n",
    "print(\"=\" * 50)\n",
    "print(f\"\\nTotal Return:        {results['metrics']['total_return']:.2%}\")\n",
    "print(f\"Annualized Return:   {results['metrics'].get('annual_return', 0):.2%}\")\n",
    "print(f\"Sharpe Ratio:        {results['metrics']['sharpe_ratio']:.2f}\")\n",
    "print(f\"Max Drawdown:        {results['metrics']['max_drawdown']:.2%}\")\n",
    "print(f\"Volatility:          {results['metrics'].get('volatility', 0):.2%}\")\n",
    "print(f\"Avg Turnover:        {results['metrics'].get('avg_turnover', 0):.2%}\")\n",
    "print(\"=\" * 50)"
   ]
  },
  {
   "cell_type": "code",
   "execution_count": null,
   "metadata": {},
   "outputs": [],
   "source": [
    "# Visualize equity curve\n",
    "equity_curve = results['equity_curve']\n",
    "\n",
    "fig, axes = plt.subplots(2, 1, figsize=(14, 10))\n",
    "\n",
    "# Equity curve\n",
    "axes[0].plot(equity_curve['date'], equity_curve['equity'], linewidth=2, label='Portfolio Equity')\n",
    "axes[0].set_title('Portfolio Equity Curve', fontsize=16, fontweight='bold')\n",
    "axes[0].set_ylabel('Equity ($)')\n",
    "axes[0].legend()\n",
    "axes[0].grid(True, alpha=0.3)\n",
    "\n",
    "# Drawdown\n",
    "running_max = equity_curve['equity'].expanding().max()\n",
    "drawdown = (equity_curve['equity'] - running_max) / running_max * 100\n",
    "\n",
    "axes[1].fill_between(equity_curve['date'], drawdown, 0, alpha=0.5, color='red', label='Drawdown')\n",
    "axes[1].set_title('Drawdown', fontsize=16, fontweight='bold')\n",
    "axes[1].set_ylabel('Drawdown (%)')\n",
    "axes[1].set_xlabel('Date')\n",
    "axes[1].legend()\n",
    "axes[1].grid(True, alpha=0.3)\n",
    "\n",
    "plt.tight_layout()\n",
    "plt.show()"
   ]
  },
  {
   "cell_type": "code",
   "execution_count": null,
   "metadata": {},
   "outputs": [],
   "source": [
    "# Save backtest results\n",
    "import os\n",
    "os.makedirs('data/reports', exist_ok=True)\n",
    "equity_curve.to_csv('data/reports/equity_curve.csv', index=False)\n",
    "print(\"✓ Backtest results saved to data/reports/equity_curve.csv\")"
   ]
  },
  {
   "cell_type": "markdown",
   "metadata": {},
   "source": [
    "---\n",
    "## Step 5: Populate Dashboard\n",
    "\n",
    "Save results to database so the dashboard displays them."
   ]
  },
  {
   "cell_type": "code",
   "execution_count": null,
   "metadata": {},
   "outputs": [],
   "source": [
    "from src.database.models import init_database, PortfolioSnapshot\n",
    "from datetime import datetime\n",
    "\n",
    "# Initialize database\n",
    "engine, SessionLocal = init_database()\n",
    "db = SessionLocal()\n",
    "\n",
    "print(\"✓ Database connection established\")"
   ]
  },
  {
   "cell_type": "code",
   "execution_count": null,
   "metadata": {},
   "outputs": [],
   "source": [
    "# Populate portfolio snapshots for dashboard\n",
    "print(\"Populating dashboard data...\")\n",
    "\n",
    "snapshots_to_add = []\n",
    "for _, row in equity_curve.iterrows():\n",
    "    snapshot = PortfolioSnapshot(\n",
    "        date=row['date'],\n",
    "        total_equity=row['equity'],\n",
    "        cash=0,  # Simplified - fully invested\n",
    "        positions_value=row['equity'],\n",
    "        daily_return=0,  # Can calculate if needed\n",
    "        daily_pnl=0\n",
    "    )\n",
    "    snapshots_to_add.append(snapshot)\n",
    "\n",
    "# Bulk insert\n",
    "db.bulk_save_objects(snapshots_to_add)\n",
    "db.commit()\n",
    "\n",
    "print(f\"✓ Added {len(snapshots_to_add)} portfolio snapshots to database\")\n",
    "db.close()"
   ]
  },
  {
   "cell_type": "markdown",
   "metadata": {},
   "source": [
    "---\n",
    "## ✅ Pipeline Complete!\n",
    "\n",
    "### What You Accomplished:\n",
    "1. ✓ Fetched OHLCV data for stocks\n",
    "2. ✓ Generated technical features and labels\n",
    "3. ✓ Trained ML model with evaluation metrics\n",
    "4. ✓ Constructed portfolio and ran backtest\n",
    "5. ✓ Populated dashboard database\n",
    "\n",
    "### Next Steps:\n",
    "\n",
    "**1. View Results in Dashboard:**\n",
    "   - Go to http://localhost:8501 in your browser\n",
    "   - Refresh the page to see your data\n",
    "   - Navigate through Portfolio Overview, Signals, etc.\n",
    "\n",
    "**2. Experiment & Iterate:**\n",
    "   - Adjust `NUM_STOCKS` in Step 1 to test with more stocks\n",
    "   - Modify parameters in `config/config.yaml`\n",
    "   - Try different optimizers: `pypfopt`, `inverse_vol`, `equal_weight`\n",
    "   - Change `top_k` for number of positions\n",
    "\n",
    "**3. Production Automation:**\n",
    "   - Once satisfied, use `python run_pipeline.py` for automated runs\n",
    "   - Set up daily cron jobs for live operations\n",
    "   - Use `src/live/` modules for real-time trading\n",
    "\n",
    "**4. Further Analysis:**\n",
    "   - View MLflow UI: `mlflow ui --port 5000`\n",
    "   - Compare different model runs\n",
    "   - Analyze feature importance\n",
    "\n",
    "---\n",
    "\n",
    "### Development → Production Checklist\n",
    "- [ ] Test with larger universe (100+ stocks)\n",
    "- [ ] Validate PIT alignment for fundamentals\n",
    "- [ ] Optimize hyperparameters with Optuna\n",
    "- [ ] Paper trade with `dry_run=True`\n",
    "- [ ] Set up monitoring and alerts\n",
    "- [ ] Document your strategy parameters\n",
    "- [ ] Consider premium data providers\n",
    "\n",
    "**Great job! Your ML trading system is now operational.** 🎉"
   ]
  }
 ],
 "metadata": {
  "kernelspec": {
   "display_name": "us-stock-app",
   "language": "python",
   "name": "python3"
  },
  "language_info": {
   "codemirror_mode": {
    "name": "ipython",
    "version": 3
   },
   "file_extension": ".py",
   "mimetype": "text/x-python",
   "name": "python",
   "nbconvert_exporter": "python",
   "pygments_lexer": "ipython3",
   "version": "3.10.19"
  }
 },
 "nbformat": 4,
 "nbformat_minor": 4
}
